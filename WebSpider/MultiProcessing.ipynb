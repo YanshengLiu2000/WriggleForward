{
 "cells": [
  {
   "cell_type": "code",
   "execution_count": null,
   "metadata": {},
   "outputs": [],
   "source": []
  },
  {
   "cell_type": "code",
   "execution_count": 5,
   "metadata": {},
   "outputs": [
    {
     "name": "stdout",
     "output_type": "stream",
     "text": [
      "Main process is running!\n",
      "Main process end!\n"
     ]
    }
   ],
   "source": [
    "import multiprocessing as mp\n",
    "import threading as td\n",
    "import os\n",
    "import time\n",
    "import random\n",
    "\n",
    "def r1(process_name):\n",
    "    for i in range(5):\n",
    "        print('Process name is %s.Process ID is %s.' % (process_name, os.getppid()))\n",
    "        time.sleep(1)\n",
    "\n",
    "def r2(process_name):\n",
    "    for i in range(10):\n",
    "        print('Process name is %s.Process ID is %s.' % (process_name, os.getppid()))\n",
    "        time.sleep(1)\n",
    "\"\"\"\n",
    "join() 用于阻塞主进程.\n",
    "start() 用于启动一个进程\n",
    "\"\"\"\n",
    "if __name__=='__main__':\n",
    "    print('Main process is running!')\n",
    "    p1=mp.Process(target=r1,args=('process_1',))\n",
    "    p2=mp.Process(target=r2,args=('process_2',))\n",
    "    p1.start()\n",
    "    p2.start()\n",
    "    p1.join()\n",
    "    p2.join()\n",
    "    print(\"Main process end!\")"
   ]
  },
  {
   "cell_type": "code",
   "execution_count": null,
   "metadata": {},
   "outputs": [
    {
     "name": "stdout",
     "output_type": "stream",
     "text": [
      "Parent process 3244\n",
      "waiting for all subprocesses done!\n"
     ]
    }
   ],
   "source": [
    "import multiprocessing as mp\n",
    "import threading as td\n",
    "import os\n",
    "import time\n",
    "import random\n",
    "\"\"\"\n",
    "进程池,默认数为cpu核数,当想启动的进程数大于最大进程数时,余下的进程自动排队\n",
    "\"\"\"\n",
    "def run_proc(name):\n",
    "    print('Run task {} in {}'.format(name,os.getppid()))\n",
    "    start=time.time()\n",
    "    time.sleep(1)\n",
    "    end=time.time()\n",
    "    print('Task {} runs {0:0.2f} seconds.'.format(name,(end-start)))\n",
    "\n",
    "if __name__=='__main__':\n",
    "    print('Parent process', os.getppid())\n",
    "    p=mp.Pool()\n",
    "    for i in range(10):\n",
    "        p.apply_async(run_proc,args=(i,))\n",
    "    print(\"waiting for all subprocesses done!\")\n",
    "    p.close()\n",
    "    p.join()\n",
    "    print('Process end!')"
   ]
  },
  {
   "cell_type": "code",
   "execution_count": null,
   "metadata": {},
   "outputs": [],
   "source": [
    "import multiprocessing as mp\n",
    "import threading as td\n",
    "import os\n",
    "import time\n",
    "import random\n",
    "\"\"\"\n",
    "进程间共享队列,先入先出.\n",
    "\"\"\"\n",
    "def job(queue,process_name,sleep_time):\n",
    "    print('{} is running!{}'.format(process_name,os.getppid()))\n",
    "    time.sleep(sleep_time)\n",
    "    queue.put(process_name)\n",
    "\n",
    "if __name__=='__main__':\n",
    "    q=mp.Queue()\n",
    "    p1=mp.Process(target=job, args=(q, 'P1', 2))\n",
    "    p2=mp.Process(target=job, args=(q, 'P2', 1))\n",
    "    p1.start()\n",
    "    p2.start()\n",
    "    p1.join()\n",
    "    p2.join()\n",
    "    res1=q.get()\n",
    "    res2=q.get()\n",
    "    print('res1=={} and res2=={}'.format(res1,res2))"
   ]
  },
  {
   "cell_type": "code",
   "execution_count": null,
   "metadata": {},
   "outputs": [],
   "source": []
  }
 ],
 "metadata": {
  "kernelspec": {
   "display_name": "Python 3",
   "language": "python",
   "name": "python3"
  },
  "language_info": {
   "codemirror_mode": {
    "name": "ipython",
    "version": 3
   },
   "file_extension": ".py",
   "mimetype": "text/x-python",
   "name": "python",
   "nbconvert_exporter": "python",
   "pygments_lexer": "ipython3",
   "version": "3.6.5"
  }
 },
 "nbformat": 4,
 "nbformat_minor": 2
}
