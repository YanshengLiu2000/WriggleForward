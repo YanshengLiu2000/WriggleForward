{
 "cells": [
  {
   "cell_type": "raw",
   "metadata": {},
   "source": [
    "\n",
    "\n",
    "\n",
    "一句sql包含以下关键词，(1):select (2):from (3):where (4):group by (5):having (6):order by,请问执行顺序是怎么样的？\n",
    "A: A.(2)(3)(1)(4)(5)(6)\n",
    "\n",
    "B: B.(2)(1)(3)(4)(5)(6)\n",
    "\n",
    "C: C.(2)(3)(1)(5)(4)(6)\n",
    "\n",
    "D: D.(2)(3)(4)(5)(1)(6)\n",
    "\n",
    "\n",
    "正确答案：D\n",
    "\n",
    "下列函数中函数值为字符型的是\n",
    "A: A.DATE()\n",
    "\n",
    "B: B.TIME()\n",
    "\n",
    "C: C.YEAR()\n",
    "\n",
    "D: D.DATETIME()\n",
    "\n",
    "正确答案：B\n",
    "\n",
    "\n",
    "SQL语句中修改表结构的命令是?\n",
    "A: A.MODIFY TABLE\n",
    "\n",
    "B: B.MODIFY STRUCTURE\n",
    "\n",
    "C: C.ALTER TABLE\n",
    "\n",
    "D: D.ALTER STRUCTURE\n",
    "\n",
    "正确答案：C\n",
    "\n",
    "\n",
    "在Oracle中，下面关于函数描述正确的是\n",
    "A: A.SYSDATE函数返回Oracle服务器的日期和时间\n",
    "\n",
    "B: B.ROUND数字函数按四舍五入原则返回指定十进制数最靠近的整数\n",
    "\n",
    "C: C.ADD_MONTHS日期函数返回指定两个月份天数的和\n",
    "\n",
    "D: D.SUBSTR函数从字符串指定的位置返回指定长度的子串\n",
    "\n",
    "正确答案：A,D\n",
    "\n",
    "\n"
   ]
  },
  {
   "cell_type": "raw",
   "metadata": {},
   "source": []
  },
  {
   "cell_type": "code",
   "execution_count": 1,
   "metadata": {},
   "outputs": [
    {
     "ename": "SyntaxError",
     "evalue": "invalid character in identifier (<ipython-input-1-949e3b8116d1>, line 1)",
     "output_type": "error",
     "traceback": [
      "\u001b[1;36m  File \u001b[1;32m\"<ipython-input-1-949e3b8116d1>\"\u001b[1;36m, line \u001b[1;32m1\u001b[0m\n\u001b[1;33m    作者：java架构交流\u001b[0m\n\u001b[1;37m              ^\u001b[0m\n\u001b[1;31mSyntaxError\u001b[0m\u001b[1;31m:\u001b[0m invalid character in identifier\n"
     ]
    }
   ],
   "source": [
    "作者：java架构交流\n",
    "链接：https://zhuanlan.zhihu.com/p/57629603\n",
    "来源：知乎\n",
    "著作权归作者所有。商业转载请联系作者获得授权，非商业转载请注明出处。\n",
    "\n",
    "\n",
    "\n",
    "Float、Decimal 存储金额的区别？\n",
    "Datetime、Timestamp 存储时间的区别？\n",
    "Char、Varchar、Varbinary 存储字符的区别？\n",
    "\n",
    "缓存redis数据结构有哪些？\n",
    "Redis缓存穿透，缓存雪崩？\n",
    "如何使用Redis来实现分布式锁？\n",
    "Redis的并发竞争问题如何解决？\n",
    "Redis持久化的几种方式，优缺点是什么，怎么实现的？\n",
    "Redis的缓存失效策略？\n",
    "Redis集群，高可用，原理？Redis缓存分片？\n",
    "Redis的数据淘汰策略？\n",
    "redis队列应用场景？\n",
    "分布式使用场景（储存session）？\n",
    "\n",
    "\n",
    "HTTP协议的交互流程，HTTP和HTTPS的差异，SSL的交互流程？\n",
    "TCP的滑动窗口协议有什么用？\n",
    "Socket交互的基本流程？\n",
    "webservice协议（wsdl/soap格式，与restt办议的区别）？\n",
    "说说Netty线程模型，什么是零拷贝？\n",
    "\n"
   ]
  },
  {
   "cell_type": "code",
   "execution_count": null,
   "metadata": {},
   "outputs": [],
   "source": [
    "Q:MySQL 数据种类?\n",
    "    web:\n",
    "    ANS:\n",
    "END_Q\n",
    "\n",
    "线程同步如何实现？实现的原理是什么？不同进程间的线程可以通信吗？如何同步？信号量机制详细解释一下？\n",
    "进程的几种状态 阻塞 挂起 初始 销毁 运行 等待\n",
    "\n",
    "作者：zgtmy（不变红色不改昵称）\n",
    "链接：https://www.nowcoder.com/discuss/115017\n",
    "来源：牛客网\n",
    "\n",
    "\n",
    "对单例设计模式  和工厂设计模式了解吗？不了解\n",
    "对微服务了解么？不了解\n",
    "对redis中间件了解么？不了解\n",
    "对springmvc  spring了解么？不了解\n",
    "进程间通信的方式？答：互斥量、共享内存 、信号量  问： 进程间通过共享内存是共享的哪里的内存？\n",
    "用过多线程吗？没用过\n",
    "Java类是什么时候加载的？没想起来\n",
    "多线程并发的时候会出现什么问题？答线程不安全  问：还有呢？"
   ]
  }
 ],
 "metadata": {
  "kernelspec": {
   "display_name": "Python 3",
   "language": "python",
   "name": "python3"
  },
  "language_info": {
   "codemirror_mode": {
    "name": "ipython",
    "version": 3
   },
   "file_extension": ".py",
   "mimetype": "text/x-python",
   "name": "python",
   "nbconvert_exporter": "python",
   "pygments_lexer": "ipython3",
   "version": "3.6.5"
  }
 },
 "nbformat": 4,
 "nbformat_minor": 2
}
