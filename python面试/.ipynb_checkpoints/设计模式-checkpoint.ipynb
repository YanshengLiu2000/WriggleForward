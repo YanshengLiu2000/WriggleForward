{
 "cells": [
  {
   "cell_type": "raw",
   "metadata": {},
   "source": [
    "世界上就两种模式\n",
    "    1 DONT REPEAT YOURSELF\n",
    "    2 MAKE THINGS AS LOCAL AS POSSIBLE\n",
    "设计模式有什么用?\n",
    "    https://www.cnblogs.com/linkstar/p/7859980.html\n",
    "    \n",
    "设计模式的python实现, 看了下, 感觉python不怎么需要设计模式.\n",
    "http://www.cnblogs.com/wuyuegb2312/archive/2013/04/09/3008320.html"
   ]
  },
  {
   "cell_type": "raw",
   "metadata": {},
   "source": []
  }
 ],
 "metadata": {
  "kernelspec": {
   "display_name": "Python 3",
   "language": "python",
   "name": "python3"
  },
  "language_info": {
   "codemirror_mode": {
    "name": "ipython",
    "version": 3
   },
   "file_extension": ".py",
   "mimetype": "text/x-python",
   "name": "python",
   "nbconvert_exporter": "python",
   "pygments_lexer": "ipython3",
   "version": "3.6.5"
  }
 },
 "nbformat": 4,
 "nbformat_minor": 2
}
