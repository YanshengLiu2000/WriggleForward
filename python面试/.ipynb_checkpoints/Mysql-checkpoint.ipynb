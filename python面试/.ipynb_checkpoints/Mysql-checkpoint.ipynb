{
 "cells": [
  {
   "cell_type": "raw",
   "metadata": {},
   "source": [
    "登录mysql:\n",
    "    cmd中: 'MySQL -u root -p'回车后输入密码\n",
    "退出:\n",
    "    exit 或者 quit \\q 都可以\n",
    "查看当前服务器下数据库列表:\n",
    "    SHOW {database|schema} [LIKE 'pattern' | WHERE expr]\n",
    "    eg: SHOW DATABASES;\n",
    "查看警告信息:\n",
    "    show warnings;\n",
    "创建数据库:\n",
    "    CREATE {database|schema} [if not exists] db_name [default] character set [=] charset_name\n",
    "    eg: CREATE t1;\n",
    "显示数据库信息:\n",
    "    SHOW CREATE DATABASE db_name;\n",
    "修改数据库信息(编码信息):\n",
    "    ALTER {database|schema} [db_name] [default] character set [=] charset_name\n",
    "删除数据库:\n",
    "    DROP {database|schema} [if exists] db_name;\n",
    "\n"
   ]
  },
  {
   "cell_type": "raw",
   "metadata": {},
   "source": [
    "mysql数据类型:\n",
    "    整型,浮点型,日期,字符(char 是定长的 varchar 是变长0到2**16-1,ENUM(val1,val2)枚举值用于单选, set(v1,v2,v3)集合, 用于多重选择)"
   ]
  },
  {
   "cell_type": "raw",
   "metadata": {},
   "source": [
    "表操作:\n",
    "打开数据库:\n",
    "    use db_name;\n",
    "查看当前所在的数据库:\n",
    "    select database();\n",
    "创建表:\n",
    "    CREATE TABLE [if not exists] table_name(col_name data_type [NULL | NOT NULL] [primary key| unique | default value],XXX,);\n",
    "\n",
    "查看表:\n",
    "    SHOW Tables [FROM db_name] [LIKE 'parttern'| WHERE expr];\n",
    "    eg: SHOW TABLES FROM mysql ==> 查看mysql中所有的tables\n",
    "查看表结构:\n",
    "    SHOW COLUMNS FROM tbl_name;\n",
    "查看表记录:\n",
    "    SELECT * from tb_name;\n",
    "插入记录:\n",
    "    INSERT [INTO] tbl_name [(col1,...)] VALUES(val1,...);\n",
    "    如果省略掉列名称的话, 必须为所有字段赋值.\n",
    "自动编号:\n",
    "    AUTO_INCREMENT\n",
    "表的修改:\n",
    "    添加列: ALTER TABLE tb_name ADD [COLUMN] col_name column_attr [FIRST | (AFTER col_name)];\n",
    "    删除列: ALTER TABLE tb_name DROP [COLUMN] col_name column_attr [FIRST | (AFTER col_name)];\n",
    "             ALTER TABLE tb_name DROP col_name1,DROP col_name2;\n",
    "    添加列属性: ALTER TABLE tb_name ADD UNIQUE (col_name);\n",
    "    设置列属性默认值: ALTER TABLE tb_name col_name SET DEFAULT val| DROP DEFAULT;\n",
    "    \n",
    "    删除列属性: ALTER TABLE tb_name DROP PRIMARY KEY;\n",
    "                ALTER TABLE tb_name DROP {key|index} col_name;\n",
    "    修改列名: ALTER TABLE tb_name CHANGE [COLUMN] old_col_name new_col_name attr [FIRST | after col_name];\n",
    "    修改表名: ALTER TABLE tb_name RENAME new_tb_name;"
   ]
  },
  {
   "cell_type": "raw",
   "metadata": {},
   "source": [
    "表的增删改查:\n",
    "    增: INSERT tb_name (col_names,xxx) {VALUES|VALUE} (val|DEFAULT),();\n",
    "        INSERT tb_name SET col_name={val|DEFAULT}; 可以使用子查询, 用的比较少\n",
    "        INSERT tb_name (col_names, )SELECT ...\n",
    "        \n",
    "    删: DELETE FROM tab_name [WHERE condtion];\n",
    "    \n",
    "    改(单表更新):UPDATE [LOW_PRIORITY][IGNORE] tb_name SET col_name={val|DEFAULT} [,col_name2={|}] WHERE condition;\n",
    "        如果省略where条件, 将导致所有记录全部被更新!\n",
    "    \n",
    "    查: select * from tb_name;\n",
    "        select * FROM tb_name WHERE condition group by XX [ASC|DESC];\n",
    "        HAVING: select * FROM tb_name WHERE condition group by XX having condition;\n",
    "        select * from users group by gender haveing count(id)>=2;\n",
    "        ORDER BY[col_name | val| position][ASC | DESC];\n",
    "        select * from users order by id desc, age desc;\n",
    "        [LIMIT]: 限制数量\n",
    "            select * from users limit 2;"
   ]
  },
  {
   "cell_type": "raw",
   "metadata": {},
   "source": [
    "子查询:\n",
    "    出现在sql 语句内的查询\n",
    "    select * from t1 where col1=(select col2 from t2);\n",
    "    使用比较运算符的子查询:\n",
    "        select goods_id, goods_name from tdb_goods where goods_price>= [ANY|ALL|SOME](select round(avg(goods_price),2) from tdb_goods);\n",
    "    IN or NOT IN: 跟[ANY|ALL|SOME]用法一样\n",
    "    insert tb_name [col_names,XXX ] select XXX;\n",
    "        insert tdb_goods_cates(cate_name) select goods_cate from tdb_goods group by goods_cate;\n",
    "        \n",
    "    多表更新:\n",
    "        先创建一个表:\n",
    "        create table if not exists tdb_goods_cates(cate_id,cate)name);\n",
    "        然后插入goods_cate:\n",
    "        insert tdb_goods_cates(cate_name) select goods_cate from tdb_goods group by goods_cate;\n",
    "        然后更新原来的表:\n",
    "        update tdb_goods inner join tdb_goods_cates on goods_cate=cate_name set goods_cate=cate_id;\n",
    "    多表更新这里有个高科技 create table [if not exists] tb_name [(create definitions, XXX)] select_status;\n",
    "    create table tdb_goods_brands(brand_id int primary key auto_increment,brand_name varchar(40) not null) select brand_name from tdb_goods group by brand_name;\n",
    "     update tdb_goods as g inner join tdb_goods_brands as b on g.brand_name =b.brand_name set g.brand_name=b.brand_id;"
   ]
  },
  {
   "cell_type": "raw",
   "metadata": {},
   "source": [
    "JOIN!(连接):\n",
    "    默认的JOIN 是内连接, 也叫INNER JOIN 或者CROSS JOIN\n",
    "    外连接分左外连接和右外连接两种,\n",
    "    左外指的是显示左表中全部和右表中符合连接条件的\n",
    "    右外连接显示右表全部和左表符合连接条件的.\n",
    "多表连接:\n",
    "    select goods_id,goods_name,cate_name, brand_name from \n",
    "    tdb_goods as g join tdb_goods_cates as c ON g.cate_id=c.cate_id\n",
    "    join tdb_goods_brands as b ON g.brand_id=b.brand_id;\n",
    "自身的多表连接需要给表起别名s,p"
   ]
  },
  {
   "cell_type": "code",
   "execution_count": null,
   "metadata": {},
   "outputs": [],
   "source": [
    "UION:\n",
    "    就是直接连接两个sql语句,\n",
    "    union和union all的区别是\n",
    "    union 对两个结果集进行并集操作, 结果中不包括重复行,并默认排序\n",
    "    union all 是对两个集合进行并操作, 结果中包括重复行, 不排序"
   ]
  },
  {
   "cell_type": "raw",
   "metadata": {},
   "source": [
    "函数:\n",
    "    信息函数: select database()\n",
    "        select last_insert_id()\n",
    "        select user()\n",
    "        select version()\n",
    "聚合函数:\n",
    "    AVG()\n",
    "    count()\n",
    "    max()\n",
    "    min()\n",
    "    sum()\n",
    "    round()\n",
    "    select count(distinct cate_id) from tdb_goods;\n",
    "    查有多少种cate_id"
   ]
  },
  {
   "cell_type": "raw",
   "metadata": {},
   "source": [
    "存储过程:\n",
    "    存储过程是sql语句和控制语句的预编译集合, 以一个名称存储并作为一个单元处理.\n",
    "    存储过程是编译好的代码, 效率高\n",
    "    存储过程代替sql语句, 减少网络流量\n",
    "    在一定程度上保证数据安全\n",
    "    \n",
    "    优点:\n",
    "        1.增强SQL语句的功能和灵活性,可以写控制语句\n",
    "        2. 实现了较快的执行速度, 因为第二次运行存储过程时, 直接调用编译好的代码, 效率高\n",
    "        3. 调用存储过程传递名字和数据就好, 减少网络流量.\n",
    "    \n",
    "与函数区别:\n",
    "    函数只能返回一个值, 而存储过程可以返回多个值\n",
    "    函数可以作为sql语句的组成部分来执行, 存储过程一般独立执行\n",
    "    存储过程效率高\n",
    "    \n",
    "创建存储过程:\n",
    "    "
   ]
  },
  {
   "cell_type": "raw",
   "metadata": {},
   "source": [
    "索引:\n",
    "    索引是对数据库中一个或多个列的排序, 帮数据库高效获得数据的数据结构\n",
    "    分为 普通索引,唯一索引, 主键索引,全文索引\n",
    "    优点:\n",
    "        加快检索速度\n",
    "        唯一索引确保每行数据的唯一性\n",
    "    缺点:\n",
    "        插入删除修改,维护速度下降\n",
    "        占用物理和数据空间"
   ]
  },
  {
   "cell_type": "raw",
   "metadata": {},
   "source": [
    "存储引擎:\n",
    "    innodb,csv,memory等\n",
    "    共享锁(读锁), 排它锁(写锁)"
   ]
  },
  {
   "cell_type": "raw",
   "metadata": {},
   "source": [
    "事物的作用, ACID\n",
    "开始事物：BEGIN TRANSACTION\n",
    "提交事物：COMMIT TRANSACTION\n",
    "回滚事务：ROLLBACK TRANSACTION\n",
    "\n",
    "乐观锁,悲观锁:\n",
    "    乐观锁: 假定冲突不会发生, 只有在提交操作时检查是否违反数据的完整性\n",
    "    悲观锁: 假定会发生冲突, 屏蔽任何违反数据完整性的操作\n",
    "    \n",
    "数据库三范式\n",
    "  第一范式  字段具有原子性，不可再分\n",
    "  第二范式  表中的每列都和主键相关\n",
    "  第三范式  每列都和主键列直接相关，而不是间接相关"
   ]
  },
  {
   "cell_type": "raw",
   "metadata": {},
   "source": [
    "自定义函数:\n",
    "    CREATE FUNCTION function_name\n",
    "    RETURNS\n",
    "    {STRING|INTEFER|REAL|DECIMAL}\n",
    "    routine_body\n",
    "    "
   ]
  },
  {
   "cell_type": "raw",
   "metadata": {},
   "source": [
    "外键操作:\n",
    "\n",
    "外键约束条件:(实际应用中,很少定义物理外键, 只是在设计表的时候考虑)\n",
    "    1. 父表子表必须使用相同的存储引擎, 而且禁止使用临时表\n",
    "    2. 数据表的存储引擎只能为InnoDB\n",
    "    3. 外键列和参照列必须有类似的数据类型, 期中数字的长度或是否有符号位必须相同, 字符长度可以不同\n",
    "    4. 外键列和参照列必须创建索引, 如果外键列不存在索引的话, MySQL 将自动创建索引.\n",
    "    eg:create table users (id int auto_increment primary key, name varchar(10),pid int, foreign key (pid) references p (id));\n",
    "外键约束的参照操作:\n",
    "    CASCADE:从父表删除或更新且自动删除或更新子表中的匹配行.\n",
    "    SET NULL:如果父表删除或更新行, 设置子表中的外键为null, 如果设置此选项, 必须保证子表没有指定not null;\n",
    "    RESTRICT:拒绝对浮标的删除或更新操作.\n",
    "    NO ACTION:标准SQL关键字, 在MYSQL中与restrict相同.\n",
    "\n",
    "表约束与列约束:(了解一下就行)\n",
    "    对一个数据列建立的约束为列约束\n",
    "    对多个数据列建立的约束为表约束\n",
    "    列约束既可以在列定义时声明, 也可以在列定以后声明; 表约束只能在列定义后声明.\n"
   ]
  },
  {
   "cell_type": "raw",
   "metadata": {},
   "source": []
  },
  {
   "cell_type": "raw",
   "metadata": {},
   "source": [
    "数据库优化:\n",
    "    硬件,系统配置, 数据库表结构, sql及索引(效果越来越高)\n",
    "    "
   ]
  },
  {
   "cell_type": "raw",
   "metadata": {},
   "source": [
    "慢查询日志:\n",
    "    监控有效率问题的sql.\n",
    "    .show variables like 'slow_query_log';\n",
    "    .set global show_query_log_file=''\n",
    "    .set global log_not_using_indexes=on;\n",
    "    .set global long_query_time=1 #(unit second)\n",
    "通过慢查询日志可以发现的问题:\n",
    "    查询次数多且每次查询占用时间长的sql\n",
    "    IO大的sql\n",
    "    未命中索引的sql\n",
    "对于max(),min()查询, 可以通过建立索引来优化查询时间\n",
    "子查询可以优化为join, 但小心一对多关系.(distinct)\n",
    "limit 优化: 使用主键或者索引列进行order by操作 或者记住上次的主键记录, 这样下次查找的时候直接定位就好, 不需要依次扫描"
   ]
  },
  {
   "cell_type": "raw",
   "metadata": {},
   "source": [
    "索引优化:\n",
    "    离散度大的索引放在联合查询的前面.\n",
    "    但过多的索引会影响查询和写入的效率\n",
    "    需要删除不需要的索引(冗余索引, 不使用的索引)"
   ]
  },
  {
   "cell_type": "raw",
   "metadata": {},
   "source": [
    "数据库及表结构优化:\n",
    "    选择合适的数据类型:\n",
    "        尽可能用小的数据类型\n",
    "        尽可能简单的数据类型\n",
    "        尽可能使用not null\n",
    "        尽可能少用text.\n",
    "    表的范式化和反范式化:\n",
    "        范式化可以避免插入更新删除异常和数据冗余\n",
    "        反范式化可以减少join操作, 用空间换时间.\n",
    "SELECT b.username,b.phone,b.addr,a.orderid,sum(c.price*c.num) as orderprice\n",
    "FROM ordertable as a\n",
    "JOIN usertable as b on a.userid=b.userid,\n",
    "JOIN orderlist as c on c.orderid=b.orderid,\n",
    "GROUP BY b.username,b.phone,b.addr,a.orderid;\n",
    "    表的垂直拆分:\n",
    "        不常用的字段单独放在一个表中, 经常用的放一起,大字段单放\n",
    "    表的水平拆分:\n",
    "        对id进行hash运算.前后台业务拆分开, 用来简化后台查询\n",
    "        "
   ]
  },
  {
   "cell_type": "code",
   "execution_count": null,
   "metadata": {},
   "outputs": [],
   "source": [
    "系统优化:\n",
    "    增加tcp支持的队列数\n",
    "    减少断开连接时,资源回收\n",
    "    设置打开文件数限制\n",
    "    关闭(限制)防火墙软件\n",
    "硬件优化:\n",
    "    cpu\n",
    "    存储 raid 0,1,5\n",
    "    "
   ]
  }
 ],
 "metadata": {
  "kernelspec": {
   "display_name": "Python 3",
   "language": "python",
   "name": "python3"
  },
  "language_info": {
   "codemirror_mode": {
    "name": "ipython",
    "version": 3
   },
   "file_extension": ".py",
   "mimetype": "text/x-python",
   "name": "python",
   "nbconvert_exporter": "python",
   "pygments_lexer": "ipython3",
   "version": "3.6.5"
  }
 },
 "nbformat": 4,
 "nbformat_minor": 2
}
