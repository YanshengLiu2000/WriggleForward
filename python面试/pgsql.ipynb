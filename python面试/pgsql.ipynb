{
 "cells": [
  {
   "cell_type": "raw",
   "metadata": {},
   "source": [
    "# sql基本操作(增删改查)\n",
    "\n",
    "## 建表\n",
    "\n",
    "create TABLE table_name(\n",
    "\n",
    "    col1_name data_type primary key,#指定主键\n",
    "    col2_name data_type,\n",
    "    col3_name data_type,\n",
    ");\n",
    "\n",
    "\\d 可以显示数据库中有哪些表\n",
    "\\d table_name 可以查看表定义情况\n",
    "\n",
    "## 增删改查\n",
    "增加元祖: insert into table_name values(#,name,dept,budget);\n",
    "增加表属性: alter table table_name add attr_name int;\n",
    "\n",
    "删除表中所有元素: delete from table;\n",
    "删除表: drop table table_name;\n",
    "删除表属性: alter table table_name drop attr_name;\n",
    "\n",
    "## 单表选择语句:\n",
    "    select attr_name from table_name;\n",
    "    这里可以用select distinct attr_name from table_name;去重\n",
    "    select distinct dept_name from instructor;\n",
    "    也可以用运算符\n",
    "    select ID, name, salary*1.1 from instructor;\n",
    "    select name from instructor where dept_name='zz' and salary>100;\n",
    "## 多表关联的选择语句:\n",
    "    SELECT name, instructor.dept_name, building FROM instructor, department WHERE instructor.dept_name =department.dept_name; \n",
    "    但也可以用自然连接运算(join):\n",
    "    select name,course_id from instructor natural join teaches;\n",
    "    等于\n",
    "    select name,course_id from instructor, teaches where instructor.id=teaches.id;\n",
    "    \n",
    " https://blog.csdn.net/Li_Yufeng/article/details/78185586"
   ]
  },
  {
   "cell_type": "raw",
   "metadata": {},
   "source": [
    "数据库抽象的来说分三层:\n",
    "    物理层:最底层的抽象, 详细描述复杂的底层数据结构\n",
    "    逻辑层:描述数据库中储存的什么数据及关系\n",
    "    视图层: 最高层,描述数据库的某个部分\n",
    "\n",
    "数据库设计(E-R模型):\n",
    "    超键:在关系中能唯一标示元祖的属性集称为超键\n",
    "    候选键:不含有多余属性的超键\n",
    "    主键:用户选为元祖的唯一标示的候选键\n",
    "    人(无重名)(身份证号, 姓名,年龄)\n",
    "    姓名,身份证号,(姓名,年龄),(姓名,性别,年龄)都是超键\n",
    "    候选键 是 姓名, 身份证号,\n",
    "    候选键要求时不能包含多余属性的超键, 就是说, 超键在去掉一个属性后仍旧可以代表唯一元祖, 那么这个超键就不是候选键.\n",
    "    __(换个方法说, 候选键的任意真子集无法成为超键)__\n",
    "    外键:某属性集中的某属性是其他属性集的主键, 那么这个属性就是本属性集的外键\n"
   ]
  },
  {
   "cell_type": "markdown",
   "metadata": {},
   "source": []
  },
  {
   "cell_type": "markdown",
   "metadata": {},
   "source": []
  },
  {
   "cell_type": "markdown",
   "metadata": {},
   "source": []
  },
  {
   "cell_type": "markdown",
   "metadata": {},
   "source": []
  }
 ],
 "metadata": {
  "kernelspec": {
   "display_name": "Python 3",
   "language": "python",
   "name": "python3"
  },
  "language_info": {
   "codemirror_mode": {
    "name": "ipython",
    "version": 3
   },
   "file_extension": ".py",
   "mimetype": "text/x-python",
   "name": "python",
   "nbconvert_exporter": "python",
   "pygments_lexer": "ipython3",
   "version": "3.6.5"
  }
 },
 "nbformat": 4,
 "nbformat_minor": 2
}
