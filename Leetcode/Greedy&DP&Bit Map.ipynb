{
 "cells": [
  {
   "cell_type": "markdown",
   "metadata": {},
   "source": [
    "# Greedy"
   ]
  },
  {
   "cell_type": "markdown",
   "metadata": {},
   "source": [
    "## 452. Minimum Number of Arrows to Burst Balloons\n",
    "\n",
    "Greedy, 扫描线\n",
    "\n",
    "[452. Minimum Number of Arrows to Burst Balloons](https://leetcode.com/problems/minimum-number-of-arrows-to-burst-balloons/description/)\n",
    "\n",
    "按着x\\[1\\]排序, 然后逐渐扫描"
   ]
  },
  {
   "cell_type": "code",
   "execution_count": null,
   "metadata": {},
   "outputs": [],
   "source": [
    "class Solution:\n",
    "    def findMinArrowShots(self, points):\n",
    "        \"\"\"\n",
    "        :type points: List[List[int]]\n",
    "        :rtype: int\n",
    "        \"\"\"\n",
    "        points=sorted(points, key=lambda x: x[1])\n",
    "        \n",
    "        end=-1*float('inf')\n",
    "        res=0\n",
    "        \n",
    "        for i in points:\n",
    "            if i[0]>end:\n",
    "                end=i[1]\n",
    "                res+=1\n",
    "        return res"
   ]
  },
  {
   "cell_type": "markdown",
   "metadata": {},
   "source": [
    "# DP_easy\n"
   ]
  },
  {
   "cell_type": "markdown",
   "metadata": {},
   "source": [
    "## 70. Climbing Stairs\n",
    "\n",
    "基本DP\n",
    "\n",
    "[70. Climbing Stairs](https://leetcode.com/problems/climbing-stairs/description/)\n",
    "\n",
    "就是基本的DP方法.\n",
    "\n",
    "因为每次只能往上一步或两步.所以到达curr step的只可能是curr-1 和curr-2 个台阶.\n",
    "那我们就只关心这两个台阶有几种走法就好了. curr的走法数量=curr-1数量+curr-2数量"
   ]
  },
  {
   "cell_type": "code",
   "execution_count": null,
   "metadata": {},
   "outputs": [],
   "source": [
    "class Solution:\n",
    "    def climbStairs(self, n):\n",
    "        \"\"\"\n",
    "        :type n: int\n",
    "        :rtype: int\n",
    "        \"\"\"\n",
    "        if n==1: return 1\n",
    "        elif n==2: return 2\n",
    "        \n",
    "        dp=[0 for i in range(n)]\n",
    "        dp[0],dp[1]=1,2\n",
    "        for i in range(2,n):\n",
    "            dp[i]=dp[i-1]+dp[i-2]\n",
    "        return dp[-1]"
   ]
  },
  {
   "cell_type": "markdown",
   "metadata": {},
   "source": [
    "## 53. Maximum Subarray\n",
    "\n",
    "基本DP\n",
    "\n",
    "[53. Maximum Subarray](https://leetcode.com/problems/maximum-subarray/description/)\n",
    "\n",
    "dp这个list保存的是每个elem处的最大subarray. 在第i位时,如果dp\\[i\\]<0 说明没有加他的必要,那么i位的最大子串就是它本身\n",
    "\n",
    "如果dp\\[i-1\\]>0, 那i位的最大子串肯定是之前的最大子串+i位的数字啦~\n"
   ]
  },
  {
   "cell_type": "code",
   "execution_count": null,
   "metadata": {},
   "outputs": [],
   "source": [
    "class Solution:\n",
    "    def maxSubArray(self, nums):\n",
    "        \"\"\"\n",
    "        :type nums: List[int]\n",
    "        :rtype: int\n",
    "        \"\"\"\n",
    "        dp=[0 for i in nums]\n",
    "        dp[0]=nums[0]\n",
    "        for i in range(1,len(nums)):\n",
    "            if dp[i-1]>0:\n",
    "                dp[i]=dp[i-1]+nums[i]\n",
    "            else:\n",
    "                dp[i]=nums[i]\n",
    "        return max(dp)"
   ]
  },
  {
   "cell_type": "markdown",
   "metadata": {},
   "source": [
    "## 53. Maximum Subarray\n",
    "\n",
    "基本DP\n",
    "\n",
    "[53. Maximum Subarray](https://leetcode.com/problems/maximum-subarray/description/)\n",
    "\n",
    "这个和上一道题差不多,对于第i个房子来说, 只有两个选择:\n",
    "* 抢i-2和i\n",
    "* 放弃i个房子,这样当前收获就是i-1的房子的收获\n",
    "\n",
    "也就是说,dp\\[i\\]=max(dp\\[i-2\\]+nums\\[i\\], dp\\[i-1\\])\n"
   ]
  },
  {
   "cell_type": "code",
   "execution_count": null,
   "metadata": {},
   "outputs": [],
   "source": [
    "class Solution:\n",
    "    def rob(self, nums):\n",
    "        \"\"\"\n",
    "        :type nums: List[int]\n",
    "        :rtype: int\n",
    "        \"\"\"\n",
    "        if not nums:return 0\n",
    "        elif len(nums)==1: return nums[0]\n",
    "        elif len(nums)==2: return max(nums)\n",
    "        dp=[0 for i in nums]\n",
    "        dp[0]=nums[0]\n",
    "        dp[1]=max(nums[0],nums[1])\n",
    "        for i in range(2,len(nums)):\n",
    "            temp1=dp[i-1]\n",
    "            temp2=dp[i-2]+nums[i]\n",
    "            dp[i]=max(dp[i-1],dp[i-2]+nums[i])\n",
    "        return dp[-1]"
   ]
  },
  {
   "cell_type": "markdown",
   "metadata": {},
   "source": [
    "# DP_medium"
   ]
  },
  {
   "cell_type": "markdown",
   "metadata": {},
   "source": [
    "## 64. Minimum Path Sum\n",
    "\n",
    "基本DP\n",
    "\n",
    "[64. Minimum Path Sum](https://leetcode.com/problems/minimum-path-sum/description/)\n",
    "\n",
    "\n",
    "2D的DP题目:\n",
    "\n",
    "因为题目规定,每次只能向下或向右一个单位, 那么最左边的一列和最上边的一排就只有唯一情况\n",
    "\n",
    "剩下的DP\\[i\\]\\[j\\]= min(上面的点DP, 左边的点DP)\n",
    "\n",
    "最后返回dp\\[-1\\]\\[-1\\]\n",
    "\n",
    "完美~"
   ]
  },
  {
   "cell_type": "code",
   "execution_count": null,
   "metadata": {},
   "outputs": [],
   "source": [
    "class Solution(object):\n",
    "    def minPathSum(self, grid):\n",
    "        \"\"\"\n",
    "        :type grid: List[List[int]]\n",
    "        :rtype: int\n",
    "        \"\"\"\n",
    "        dp=[[0 for i in grid[0]]for j in grid]\n",
    "        dp[0][0]=grid[0][0]\n",
    "        for j in range(1,len(grid[0])):\n",
    "            dp[0][j]=dp[0][j-1]+grid[0][j]\n",
    "        for i in range(1,len(grid)):\n",
    "            dp[i][0]=dp[i-1][0]+grid[i][0]\n",
    "        \n",
    "        for i in range(1,len(grid)):\n",
    "            for j in range(1,len(grid[0])):\n",
    "                dp[i][j]=min(dp[i-1][j],dp[i][j-1])+grid[i][j]\n",
    "        return dp[-1][-1]"
   ]
  },
  {
   "cell_type": "markdown",
   "metadata": {},
   "source": [
    "## 62. Unique Paths\n",
    "\n",
    "基本DP\n",
    "\n",
    "[62. Unique Paths](https://leetcode.com/problems/unique-paths/description/)\n",
    "\n",
    "\n",
    "和[64. Minimum Path Sum](https://leetcode.com/problems/minimum-path-sum/description/)解法完全一样"
   ]
  },
  {
   "cell_type": "code",
   "execution_count": null,
   "metadata": {},
   "outputs": [],
   "source": [
    "class Solution(object):\n",
    "    def uniquePaths(self, m, n):\n",
    "        \"\"\"\n",
    "        :type m: int\n",
    "        :type n: int\n",
    "        :rtype: int\n",
    "        \"\"\"\n",
    "        dp=[[1 for i in range(m)]for j in range(n)]\n",
    "        for i in range(m):\n",
    "            dp[0][i]=1\n",
    "        for i in range(n):\n",
    "            dp[i][0]=1\n",
    "        for i in range(1,n):\n",
    "            for j in range(1,m):\n",
    "                dp[i][j]=dp[i][j-1]+dp[i-1][j]\n",
    "        return dp[-1][-1]"
   ]
  },
  {
   "cell_type": "markdown",
   "metadata": {},
   "source": [
    "## 55. Jump Game\n",
    "\n",
    "基本DP\n",
    "\n",
    "[55. Jump Game](https://leetcode.com/problems/jump-game/description/)\n",
    "\n",
    "\n",
    "本题有两种解法, 分别对应两种思路:\n",
    "* 第一种时间复杂度和空间复杂度都很低. 对每一个nums里面的元素计算最远达到距离. 这样一直记录到最后一个元素.如果可以跳跃到最后一个点的话,index一定<=len(nums)-1, 如果跳不到最后一个点的话, index<len(nums)-1\n",
    "\n",
    "* 第二种方法跟之前的1D DP题目很像,维护一个DP list,里面凡是可以到达的点标记为True,否则标记为False,从第一个点开始一点点前进,直到index>len(nums)-1 或者dp\\[i\\]==0\n",
    "\n",
    "第二种方法遇到了time limite error, 效率没有第一个方法高,但相对比较好想."
   ]
  },
  {
   "cell_type": "code",
   "execution_count": null,
   "metadata": {},
   "outputs": [],
   "source": [
    "class Solution(object):\n",
    "    def canJump1(self, nums):\n",
    "        \"\"\"\n",
    "        :type nums: List[int]\n",
    "        :rtype: bool\n",
    "        \"\"\"\n",
    "        longest=nums[0]\n",
    "        index=0\n",
    "        while index<=longest:\n",
    "            jump_to=nums[index]+index\n",
    "            longest=max(longest,jump_to)\n",
    "            if longest>=len(nums)-1:\n",
    "                return True\n",
    "            index+=1\n",
    "        return False\n",
    "    \n",
    "    def canJump2(self, nums):\n",
    "        \"\"\"\n",
    "        :type nums: List[int]\n",
    "        :rtype: bool\n",
    "        \"\"\"\n",
    "        dp=[0 for i in nums]\n",
    "        dp[0]=1\n",
    "        for i in range(len(nums)):\n",
    "            if dp[i]:\n",
    "                if i + nums[i]>=len(nums)-1:\n",
    "                    return True\n",
    "                else:\n",
    "                    for j in range(nums[i]):\n",
    "                        dp[i+j+1]=1\n",
    "            else:\n",
    "                return False"
   ]
  },
  {
   "cell_type": "markdown",
   "metadata": {},
   "source": [
    "## 45. Jump Game II\n",
    "\n",
    "基本DP\n",
    "\n",
    "[45. Jump Game II](https://leetcode.com/problems/jump-game-ii/description/)\n",
    "\n",
    "和上一题差不多, 就是建立一个DP list dp\\[i\\] 存储最少次数. \n",
    "对于每一个i 都写一个循环,循环里往前推dp\\[i+j\\] =dp\\[i\\]+1, 如果dp\\[index\\]==0, 返回false,如果i+j>=len(nums)返回dp\\[i\\]+1\n",
    "\n",
    "这个解法在最后一个case时会超时\n"
   ]
  },
  {
   "cell_type": "code",
   "execution_count": null,
   "metadata": {},
   "outputs": [],
   "source": [
    "class Solution:\n",
    "    def jump(self, nums):\n",
    "        \"\"\"\n",
    "        :type nums: List[int]\n",
    "        :rtype: int\n",
    "        \"\"\"\n",
    "        dp=[0 for i in nums]\n",
    "        dp[0]=1#之所以要设置dp[0]=1 是为了方便之后的判断,但dp[0]真正的情况应该是0\n",
    "        index=0\n",
    "        while index<=len(nums)-1:#防止index溢出\n",
    "            if dp[index]:\n",
    "                for i in range(nums[index]):\n",
    "                    if index+1+i>len(nums)-1:#如果溢出,说明之前已经到达过最后一个点,那么直接返回就好了\n",
    "                        return dp[-1]-1#由于在dp[0]时多了一跳,所以返回值需要减少一个\n",
    "                    if not dp[index+i+1]:\n",
    "                        dp[index+i+1]=dp[index]+1#之前的点到现在的点需要跳跃的次数加一\n",
    "                index+=1#增加index\n",
    "            else:\n",
    "                return False#如果发现又不能到达的点,说明根本跳不到最后一个点,直接gg就好\n",
    "        return dp[-1]-1"
   ]
  },
  {
   "cell_type": "markdown",
   "metadata": {},
   "source": [
    "## 300. Longest Increasing Subsequence\n",
    "\n",
    "基本DP\n",
    "\n",
    "[300. Longest Increasing Subsequence](https://leetcode.com/problems/longest-increasing-subsequence/description/)\n",
    "\n",
    "对每个elem及之前的所有elems简历子串,检索子串最大增序列. 最后当前dp\\[i\\]就等于之前的最大dp+1\n"
   ]
  },
  {
   "cell_type": "code",
   "execution_count": null,
   "metadata": {},
   "outputs": [],
   "source": [
    "class Solution:\n",
    "    def lengthOfLIS(self, nums):\n",
    "        \"\"\"\n",
    "        :type nums: List[int]\n",
    "        :rtype: int\n",
    "        \"\"\"\n",
    "        if not nums:\n",
    "            return 0\n",
    "        dp=[1 for _ in nums]\n",
    "\n",
    "        for i in range(len(nums)):\n",
    "            temp=[]\n",
    "            for j in range(i):\n",
    "                if nums[j]<nums[i]:\n",
    "                    temp.append(dp[j])\n",
    "            if temp:\n",
    "                dp[i]=max(temp)+1\n",
    "        return max(dp)\n",
    "    \n",
    "#当然啦,也可以不用temp来减小空间复杂度\n",
    "\n",
    "\"\"\"\n",
    "for i in range(len(nums)):\n",
    "    for j in range(i):\n",
    "        if nums[j]<nums[i] and dp[j]+1>dp[i]:\n",
    "            dp[i]=dp[j]+1\n",
    "\"\"\"\n",
    "#由于没有用max(),时间复杂度也减少了很多"
   ]
  },
  {
   "cell_type": "markdown",
   "metadata": {},
   "source": [
    "## 136. Single Number\n",
    "异或操作\n",
    "\n",
    "[136. Single Number](https://leetcode.com/problems/single-number/description/)\n",
    "\n",
    "异或操作\n"
   ]
  },
  {
   "cell_type": "code",
   "execution_count": null,
   "metadata": {},
   "outputs": [],
   "source": [
    "class Solution:\n",
    "    def singleNumber(self, nums):\n",
    "        \"\"\"\n",
    "        :type nums: List[int]\n",
    "        :rtype: int\n",
    "        \"\"\"\n",
    "        res=0\n",
    "        for i in nums:\n",
    "            res^=i\n",
    "        return res\n",
    "        "
   ]
  },
  {
   "cell_type": "code",
   "execution_count": null,
   "metadata": {},
   "outputs": [],
   "source": []
  }
 ],
 "metadata": {
  "kernelspec": {
   "display_name": "Python 3",
   "language": "python",
   "name": "python3"
  },
  "language_info": {
   "codemirror_mode": {
    "name": "ipython",
    "version": 3
   },
   "file_extension": ".py",
   "mimetype": "text/x-python",
   "name": "python",
   "nbconvert_exporter": "python",
   "pygments_lexer": "ipython3",
   "version": "3.6.5"
  }
 },
 "nbformat": 4,
 "nbformat_minor": 2
}
