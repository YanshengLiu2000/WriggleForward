{
 "cells": [
  {
   "cell_type": "code",
   "execution_count": 2,
   "metadata": {},
   "outputs": [
    {
     "name": "stdout",
     "output_type": "stream",
     "text": [
      "[1, 2, 3, 4]\n",
      "0\n",
      "2\n"
     ]
    }
   ],
   "source": [
    "class Node:\n",
    "    def __init__(self,number=None):\n",
    "        self.data=number\n",
    "        self.next=None\n",
    "    def get_data(self):\n",
    "        return self.data\n",
    "    def set_data(self,number):\n",
    "        self.data=number\n",
    "    def set_next(self,next_node):\n",
    "        self.next=next_node\n",
    "class LinkedList:\n",
    "    def __init__(self,head=None):\n",
    "        head_node=Node(head)\n",
    "        self.head=head_node\n",
    "    def is_empty(self):\n",
    "        return self.head.data == None\n",
    "    def add(self,item):\n",
    "        temp=Node(item)\n",
    "        temp.set_next=(self.head)\n",
    "        self.head=temp\n",
    "        \n",
    "mylist=LinkedList()\n",
    "\n",
    "# print(mylist.is_empty())\n",
    "lt=[2,3,1,4]\n",
    "lt=sorted(lt)\n",
    "print(lt)\n",
    "for i in range(0,len(lt),2):\n",
    "    print(i)"
   ]
  },
  {
   "cell_type": "code",
   "execution_count": null,
   "metadata": {},
   "outputs": [],
   "source": [
    "\n",
    "Given an array of integers, return indices of the two numbers such that they add up to a specific target.\n",
    "\n",
    "You may assume that each input would have exactly one solution, and you may not use the same element twice.\n",
    "\n",
    "Example:\n",
    "\n",
    "Given nums = [2, 7, 11, 15], target = 9,\n",
    "\n",
    "Because nums[0] + nums[1] = 2 + 7 = 9,\n",
    "return [0, 1]."
   ]
  },
  {
   "cell_type": "code",
   "execution_count": null,
   "metadata": {},
   "outputs": [],
   "source": [
    "class Solution(object):\n",
    "    def twoSum(self, nums, target):\n",
    "        \"\"\"\n",
    "        :type nums: List[int]\n",
    "        :type target: int\n",
    "        :rtype: List[int]\n",
    "        \"\"\"\n",
    "        for i in range(len(nums)):\n",
    "            for j in range(i+1,len(nums)):\n",
    "                if nums[i]+nums[j] == target:\n",
    "                    return [i,j]\n",
    "#dont need care about if i+1>=len(nums) in line 9."
   ]
  },
  {
   "cell_type": "code",
   "execution_count": 12,
   "metadata": {},
   "outputs": [
    {
     "name": "stdout",
     "output_type": "stream",
     "text": [
      "[[1, 4], [2, 5], [3, 6]]\n"
     ]
    }
   ],
   "source": [
    "class Solution(object):\n",
    "    def transpose(self, A):\n",
    "        \"\"\"\n",
    "        :type A: List[List[int]]\n",
    "        :rtype: List[List[int]]\n",
    "        \"\"\"\n",
    "        B=[]\n",
    "        for i in range(len(A[0])):\n",
    "            temp=[]\n",
    "            for j in range(len(A)):\n",
    "                temp.append(A[j][i])\n",
    "            B.append(temp)\n",
    "        return B\n",
    "s=Solution()\n",
    "print(s.transpose([[1,2,3],[4,5,6]]))"
   ]
  },
  {
   "cell_type": "code",
   "execution_count": 14,
   "metadata": {},
   "outputs": [
    {
     "name": "stdout",
     "output_type": "stream",
     "text": [
      "aaa\n"
     ]
    }
   ],
   "source": [
    "previous=None\n",
    "if previous== None:\n",
    "    print('aaa')"
   ]
  },
  {
   "cell_type": "code",
   "execution_count": 7,
   "metadata": {},
   "outputs": [
    {
     "name": "stdout",
     "output_type": "stream",
     "text": [
      "[True, False, True, False, <class 'bool'>, False, <class 'bool'>, False, <class 'bool'>]\n",
      "[<class 'bool'>, True, False, True, False, <class 'bool'>, False, <class 'bool'>, False]\n",
      "[<class 'bool'>, <class 'bool'>, True, False, True, False, <class 'bool'>, False, <class 'bool'>]\n",
      "[<class 'bool'>, <class 'bool'>, <class 'bool'>, True, False, True, False, <class 'bool'>, False]\n",
      "[<class 'bool'>, <class 'bool'>, <class 'bool'>, <class 'bool'>, True, False, True, False, <class 'bool'>]\n",
      "[<class 'bool'>, <class 'bool'>, <class 'bool'>, <class 'bool'>, <class 'bool'>, True, False, True, False]\n",
      "[<class 'bool'>, <class 'bool'>, <class 'bool'>, <class 'bool'>, <class 'bool'>, <class 'bool'>, True, False, True]\n",
      "[<class 'bool'>, <class 'bool'>, <class 'bool'>, <class 'bool'>, <class 'bool'>, <class 'bool'>, <class 'bool'>, True, False]\n",
      "[<class 'bool'>, <class 'bool'>, <class 'bool'>, <class 'bool'>, <class 'bool'>, <class 'bool'>, <class 'bool'>, <class 'bool'>, True]\n"
     ]
    },
    {
     "data": {
      "text/plain": [
       "'aba'"
      ]
     },
     "execution_count": 7,
     "metadata": {},
     "output_type": "execute_result"
    }
   ],
   "source": [
    "def longestPalindrome(s):\n",
    "    \"\"\"\n",
    "    :type s: str\n",
    "    :rtype: str\n",
    "    \"\"\"\n",
    "    if not s or len(s)==1:\n",
    "        return s\n",
    "    maxsub=s[0]\n",
    "    length=len(s)\n",
    "    dp=[[bool for i in range(length)] for i in range(length)]\n",
    "    for i in range(length):\n",
    "        dp[i][i]=True\n",
    "    for i in range(length-1):\n",
    "        if s[i] == s[i+1]:\n",
    "            dp[i][i+1]=True\n",
    "    for i in range(length):\n",
    "        for j in range(i+1,length):\n",
    "            if s[i] ==s[j]:\n",
    "                if i+1 == j:\n",
    "                    dp[i][j]==True\n",
    "                else:\n",
    "                    dp[i][j]=dp[i+1][j-1]\n",
    "            else:\n",
    "                dp[i][j]=False\n",
    "            if dp[i][j] is True and j-i+1>len(maxsub):\n",
    "                maxsub=s[i:j+1]\n",
    "    for i in range(length):\n",
    "        print(dp[i])\n",
    "    return maxsub\n",
    "longestPalindrome('ababababa')"
   ]
  },
  {
   "cell_type": "code",
   "execution_count": 3,
   "metadata": {},
   "outputs": [
    {
     "name": "stdout",
     "output_type": "stream",
     "text": [
      "This is the func1!\n"
     ]
    }
   ],
   "source": [
    "def func1(x):\n",
    "    return 'func_1: {}'.format(x)\n",
    "if __name__=='__main__':\n",
    "    print('This is the func1!')"
   ]
  },
  {
   "cell_type": "code",
   "execution_count": 4,
   "metadata": {},
   "outputs": [
    {
     "name": "stdout",
     "output_type": "stream",
     "text": [
      "func_1: 222\n"
     ]
    }
   ],
   "source": [
    "print(func1(222))"
   ]
  },
  {
   "cell_type": "code",
   "execution_count": 2,
   "metadata": {},
   "outputs": [
    {
     "name": "stdout",
     "output_type": "stream",
     "text": [
      "4\n"
     ]
    }
   ],
   "source": [
    "def MaxDistanceInArray(array):\n",
    "    minNum=None\n",
    "    maxNum=None\n",
    "    res=0\n",
    "    for l in array:\n",
    "        if minNum ==None:\n",
    "            minNum=l[0]\n",
    "            maxNum=l[-1]\n",
    "        else:\n",
    "            res=max(res, max(abs(l[-1]-minNum), abs(maxNum-l[0])))\n",
    "            minNum=min(minNum,l[0])\n",
    "            maxNum=max(maxNum,l[-1])\n",
    "    return res\n",
    "print(MaxDistanceInArray([[1,2,3],\n",
    " [4,5],\n",
    " [1,2,3]]))\n",
    "            "
   ]
  },
  {
   "cell_type": "code",
   "execution_count": 7,
   "metadata": {},
   "outputs": [
    {
     "name": "stdout",
     "output_type": "stream",
     "text": [
      "[0, 1, 2, 3, 4]\n",
      "Kick out index&number 2:2\n",
      "Kick out index&number 1:1\n",
      "Kick out index&number 1:3\n",
      "Kick out index&number 0:0\n",
      "4\n"
     ]
    }
   ],
   "source": [
    "# -*- coding:utf-8 -*-\n",
    "class Solution:\n",
    "    def LastRemaining_Solution(self, n, m):\n",
    "        child=[i for i in range(n)]\n",
    "        print(child)\n",
    "        index=-1\n",
    "        while len(child)>1:\n",
    "            for i in range(m):\n",
    "                index+=1\n",
    "                if index>len(child)-1:\n",
    "                    index=0\n",
    "            print('Kick out index&number {}:{}'.format(index,child[index]))\n",
    "\n",
    "            child.pop(index)\n",
    "        return child[0]\n",
    "    \n",
    "print(Solution().LastRemaining_Solution(5,3))"
   ]
  },
  {
   "cell_type": "code",
   "execution_count": 1,
   "metadata": {},
   "outputs": [
    {
     "name": "stdout",
     "output_type": "stream",
     "text": [
      "9227465\n"
     ]
    }
   ],
   "source": [
    "def helper(n):\n",
    "    if n==1 or n==2:\n",
    "        return 1\n",
    "    return helper(n-1) + helper(n-2)\n",
    "print(helper(35))"
   ]
  },
  {
   "cell_type": "code",
   "execution_count": 4,
   "metadata": {},
   "outputs": [
    {
     "name": "stdout",
     "output_type": "stream",
     "text": [
      "[2, 1, 3, 5, 4]\n",
      "[2, 1, 3, 5, 4]\n"
     ]
    }
   ],
   "source": [
    "def quickSort(nums):\n",
    "    if not len(nums):\n",
    "        return nums\n",
    "    _qs(0,len(nums)-1,nums)\n",
    "    return nums\n",
    "def _qs(leftPoint, rightPoint, nums):\n",
    "    left=leftPoint\n",
    "    right=rightPoint\n",
    "    if left >=right:\n",
    "        return\n",
    "    standard=nums[leftPoint]\n",
    "\n",
    "    while left!=right:\n",
    "        while right>left and nums[right]>standard:\n",
    "            right-=1\n",
    "        while right>left and nums[left]<standard:\n",
    "            left+=1\n",
    "        nums[left],nums[right]=nums[right],nums[left]\n",
    "    nums[left],nums[leftPoint]=nums[leftPoint],nums[left]\n",
    "    _qs(leftPoint,left-1,nums)\n",
    "    _qs(right+1,rightPoint,nums)\n",
    "\n",
    "test=[2,1,3,5,4]\n",
    "t=quickSort(test)\n",
    "print(test)\n",
    "print(t)"
   ]
  },
  {
   "cell_type": "code",
   "execution_count": null,
   "metadata": {},
   "outputs": [],
   "source": []
  }
 ],
 "metadata": {
  "kernelspec": {
   "display_name": "Python 3",
   "language": "python",
   "name": "python3"
  },
  "language_info": {
   "codemirror_mode": {
    "name": "ipython",
    "version": 3
   },
   "file_extension": ".py",
   "mimetype": "text/x-python",
   "name": "python",
   "nbconvert_exporter": "python",
   "pygments_lexer": "ipython3",
   "version": "3.6.5"
  }
 },
 "nbformat": 4,
 "nbformat_minor": 2
}
