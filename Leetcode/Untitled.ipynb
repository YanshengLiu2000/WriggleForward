{
 "cells": [
  {
   "cell_type": "code",
   "execution_count": 2,
   "metadata": {},
   "outputs": [
    {
     "name": "stdout",
     "output_type": "stream",
     "text": [
      "[1, 2, 3, 4]\n",
      "0\n",
      "2\n"
     ]
    }
   ],
   "source": [
    "class Node:\n",
    "    def __init__(self,number=None):\n",
    "        self.data=number\n",
    "        self.next=None\n",
    "    def get_data(self):\n",
    "        return self.data\n",
    "    def set_data(self,number):\n",
    "        self.data=number\n",
    "    def set_next(self,next_node):\n",
    "        self.next=next_node\n",
    "class LinkedList:\n",
    "    def __init__(self,head=None):\n",
    "        head_node=Node(head)\n",
    "        self.head=head_node\n",
    "    def is_empty(self):\n",
    "        return self.head.data == None\n",
    "    def add(self,item):\n",
    "        temp=Node(item)\n",
    "        temp.set_next=(self.head)\n",
    "        self.head=temp\n",
    "        \n",
    "mylist=LinkedList()\n",
    "\n",
    "# print(mylist.is_empty())\n",
    "lt=[2,3,1,4]\n",
    "lt=sorted(lt)\n",
    "print(lt)\n",
    "for i in range(0,len(lt),2):\n",
    "    print(i)"
   ]
  },
  {
   "cell_type": "code",
   "execution_count": null,
   "metadata": {},
   "outputs": [],
   "source": [
    "\n",
    "Given an array of integers, return indices of the two numbers such that they add up to a specific target.\n",
    "\n",
    "You may assume that each input would have exactly one solution, and you may not use the same element twice.\n",
    "\n",
    "Example:\n",
    "\n",
    "Given nums = [2, 7, 11, 15], target = 9,\n",
    "\n",
    "Because nums[0] + nums[1] = 2 + 7 = 9,\n",
    "return [0, 1]."
   ]
  },
  {
   "cell_type": "code",
   "execution_count": null,
   "metadata": {},
   "outputs": [],
   "source": [
    "class Solution(object):\n",
    "    def twoSum(self, nums, target):\n",
    "        \"\"\"\n",
    "        :type nums: List[int]\n",
    "        :type target: int\n",
    "        :rtype: List[int]\n",
    "        \"\"\"\n",
    "        for i in range(len(nums)):\n",
    "            for j in range(i+1,len(nums)):\n",
    "                if nums[i]+nums[j] == target:\n",
    "                    return [i,j]\n",
    "#dont need care about if i+1>=len(nums) in line 9."
   ]
  },
  {
   "cell_type": "code",
   "execution_count": 12,
   "metadata": {},
   "outputs": [
    {
     "name": "stdout",
     "output_type": "stream",
     "text": [
      "[[1, 4], [2, 5], [3, 6]]\n"
     ]
    }
   ],
   "source": [
    "class Solution(object):\n",
    "    def transpose(self, A):\n",
    "        \"\"\"\n",
    "        :type A: List[List[int]]\n",
    "        :rtype: List[List[int]]\n",
    "        \"\"\"\n",
    "        B=[]\n",
    "        for i in range(len(A[0])):\n",
    "            temp=[]\n",
    "            for j in range(len(A)):\n",
    "                temp.append(A[j][i])\n",
    "            B.append(temp)\n",
    "        return B\n",
    "s=Solution()\n",
    "print(s.transpose([[1,2,3],[4,5,6]]))"
   ]
  },
  {
   "cell_type": "code",
   "execution_count": 14,
   "metadata": {},
   "outputs": [
    {
     "name": "stdout",
     "output_type": "stream",
     "text": [
      "aaa\n"
     ]
    }
   ],
   "source": [
    "previous=None\n",
    "if previous== None:\n",
    "    print('aaa')"
   ]
  },
  {
   "cell_type": "code",
   "execution_count": 7,
   "metadata": {},
   "outputs": [
    {
     "name": "stdout",
     "output_type": "stream",
     "text": [
      "[True, False, True, False, <class 'bool'>, False, <class 'bool'>, False, <class 'bool'>]\n",
      "[<class 'bool'>, True, False, True, False, <class 'bool'>, False, <class 'bool'>, False]\n",
      "[<class 'bool'>, <class 'bool'>, True, False, True, False, <class 'bool'>, False, <class 'bool'>]\n",
      "[<class 'bool'>, <class 'bool'>, <class 'bool'>, True, False, True, False, <class 'bool'>, False]\n",
      "[<class 'bool'>, <class 'bool'>, <class 'bool'>, <class 'bool'>, True, False, True, False, <class 'bool'>]\n",
      "[<class 'bool'>, <class 'bool'>, <class 'bool'>, <class 'bool'>, <class 'bool'>, True, False, True, False]\n",
      "[<class 'bool'>, <class 'bool'>, <class 'bool'>, <class 'bool'>, <class 'bool'>, <class 'bool'>, True, False, True]\n",
      "[<class 'bool'>, <class 'bool'>, <class 'bool'>, <class 'bool'>, <class 'bool'>, <class 'bool'>, <class 'bool'>, True, False]\n",
      "[<class 'bool'>, <class 'bool'>, <class 'bool'>, <class 'bool'>, <class 'bool'>, <class 'bool'>, <class 'bool'>, <class 'bool'>, True]\n"
     ]
    },
    {
     "data": {
      "text/plain": [
       "'aba'"
      ]
     },
     "execution_count": 7,
     "metadata": {},
     "output_type": "execute_result"
    }
   ],
   "source": [
    "def longestPalindrome(s):\n",
    "    \"\"\"\n",
    "    :type s: str\n",
    "    :rtype: str\n",
    "    \"\"\"\n",
    "    if not s or len(s)==1:\n",
    "        return s\n",
    "    maxsub=s[0]\n",
    "    length=len(s)\n",
    "    dp=[[bool for i in range(length)] for i in range(length)]\n",
    "    for i in range(length):\n",
    "        dp[i][i]=True\n",
    "    for i in range(length-1):\n",
    "        if s[i] == s[i+1]:\n",
    "            dp[i][i+1]=True\n",
    "    for i in range(length):\n",
    "        for j in range(i+1,length):\n",
    "            if s[i] ==s[j]:\n",
    "                if i+1 == j:\n",
    "                    dp[i][j]==True\n",
    "                else:\n",
    "                    dp[i][j]=dp[i+1][j-1]\n",
    "            else:\n",
    "                dp[i][j]=False\n",
    "            if dp[i][j] is True and j-i+1>len(maxsub):\n",
    "                maxsub=s[i:j+1]\n",
    "    for i in range(length):\n",
    "        print(dp[i])\n",
    "    return maxsub\n",
    "longestPalindrome('ababababa')"
   ]
  },
  {
   "cell_type": "code",
   "execution_count": 3,
   "metadata": {},
   "outputs": [
    {
     "name": "stdout",
     "output_type": "stream",
     "text": [
      "This is the func1!\n"
     ]
    }
   ],
   "source": [
    "def func1(x):\n",
    "    return 'func_1: {}'.format(x)\n",
    "if __name__=='__main__':\n",
    "    print('This is the func1!')"
   ]
  },
  {
   "cell_type": "code",
   "execution_count": 4,
   "metadata": {},
   "outputs": [
    {
     "name": "stdout",
     "output_type": "stream",
     "text": [
      "func_1: 222\n"
     ]
    }
   ],
   "source": [
    "print(func1(222))"
   ]
  },
  {
   "cell_type": "code",
   "execution_count": null,
   "metadata": {},
   "outputs": [],
   "source": []
  }
 ],
 "metadata": {
  "kernelspec": {
   "display_name": "Python 3",
   "language": "python",
   "name": "python3"
  },
  "language_info": {
   "codemirror_mode": {
    "name": "ipython",
    "version": 3
   },
   "file_extension": ".py",
   "mimetype": "text/x-python",
   "name": "python",
   "nbconvert_exporter": "python",
   "pygments_lexer": "ipython3",
   "version": "3.6.5"
  }
 },
 "nbformat": 4,
 "nbformat_minor": 2
}
