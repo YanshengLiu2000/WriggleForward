{
 "cells": [
  {
   "cell_type": "markdown",
   "metadata": {},
   "source": [
    "## 155. Min Stack\n",
    "\n",
    "stack\n",
    "\n",
    "[155. Min Stack](https://leetcode.com/problems/min-stack/description/)\n",
    "\n",
    "这个就是用一个minstack来保存每次push的最小值,\n",
    "然后在pop时,pop stack和 minstack的\\[-1\\]就好了\n",
    "\n",
    "getmin的话,就直接返回minstack的栈顶"
   ]
  },
  {
   "cell_type": "code",
   "execution_count": 1,
   "metadata": {},
   "outputs": [],
   "source": [
    "class MinStack:\n",
    "\n",
    "    def __init__(self):\n",
    "        \"\"\"\n",
    "        initialize your data structure here.\n",
    "        \"\"\"\n",
    "        self.stack=[]\n",
    "        self.minstack=[]\n",
    "        \n",
    "\n",
    "    def push(self, x):\n",
    "        \"\"\"\n",
    "        :type x: int\n",
    "        :rtype: void\n",
    "        \"\"\"\n",
    "        self.stack.append(x)\n",
    "        if self.minstack:\n",
    "            x=min(self.minstack[-1],x)\n",
    "        self.minstack.append(x)\n",
    "            \n",
    "        \n",
    "\n",
    "    def pop(self):\n",
    "        \"\"\"\n",
    "        :rtype: void\n",
    "        \"\"\"\n",
    "        self.minstack.pop()\n",
    "        self.stack.pop()\n",
    "\n",
    "    def top(self):\n",
    "        \"\"\"\n",
    "        :rtype: int\n",
    "        \"\"\"\n",
    "        return self.stack[-1]\n",
    "        \n",
    "\n",
    "    def getMin(self):\n",
    "        \"\"\"\n",
    "        :rtype: int\n",
    "        \"\"\"\n",
    "        return self.minstack[-1]\n",
    "        \n",
    "\n",
    "\n",
    "# Your MinStack object will be instantiated and called as such:\n",
    "# obj = MinStack()\n",
    "# obj.push(x)\n",
    "# obj.pop()\n",
    "# param_3 = obj.top()\n",
    "# param_4 = obj.getMin()"
   ]
  },
  {
   "cell_type": "markdown",
   "metadata": {},
   "source": [
    "## 225. Implement Stack using Queues\n",
    "\n",
    "stack\n",
    "\n",
    "[225. Implement Stack using Queues](https://leetcode.com/problems/implement-stack-using-queues/description/)\n",
    "\n",
    "还没做~应该不是很难~"
   ]
  },
  {
   "cell_type": "code",
   "execution_count": null,
   "metadata": {},
   "outputs": [],
   "source": []
  },
  {
   "cell_type": "markdown",
   "metadata": {},
   "source": [
    "## 20. Valid Parentheses\n",
    "\n",
    "stack\n",
    "\n",
    "[20. Valid Parentheses](https://leetcode.com/problems/valid-parentheses/description/)\n",
    "\n",
    "用栈做遇到后边半拉括号就pop出来之前存的,有问题就报错. \n",
    "最后检查如果栈是否为空"
   ]
  },
  {
   "cell_type": "code",
   "execution_count": 2,
   "metadata": {},
   "outputs": [],
   "source": [
    "class Solution(object):\n",
    "    def isValid(self, s):\n",
    "        \"\"\"\n",
    "        :type s: str\n",
    "        :rtype: bool\n",
    "        \"\"\"\n",
    "        #use stack \n",
    "        stack=[]\n",
    "        book={')':'(', ']':'[','}':'{'}\n",
    "        check_list=['(','[','{']\n",
    "        for elem in s:\n",
    "            if elem in check_list:\n",
    "                stack.append(elem)\n",
    "            elif elem in book:\n",
    "                if len(stack)==0:\n",
    "                    return False\n",
    "                elif stack[-1]!=book[elem]:\n",
    "                    return False\n",
    "                else:\n",
    "                    stack.pop()\n",
    "        if len(stack):\n",
    "            return False\n",
    "        return True"
   ]
  },
  {
   "cell_type": "markdown",
   "metadata": {},
   "source": [
    "346 moving avg from data stream"
   ]
  },
  {
   "cell_type": "code",
   "execution_count": null,
   "metadata": {},
   "outputs": [],
   "source": []
  }
 ],
 "metadata": {
  "kernelspec": {
   "display_name": "Python 3",
   "language": "python",
   "name": "python3"
  },
  "language_info": {
   "codemirror_mode": {
    "name": "ipython",
    "version": 3
   },
   "file_extension": ".py",
   "mimetype": "text/x-python",
   "name": "python",
   "nbconvert_exporter": "python",
   "pygments_lexer": "ipython3",
   "version": "3.6.5"
  }
 },
 "nbformat": 4,
 "nbformat_minor": 2
}
