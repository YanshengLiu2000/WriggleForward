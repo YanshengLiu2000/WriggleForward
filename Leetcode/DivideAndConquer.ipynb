{
 "cells": [
  {
   "cell_type": "markdown",
   "metadata": {},
   "source": [
    "# Divide and Conquer"
   ]
  },
  {
   "cell_type": "markdown",
   "metadata": {},
   "source": [
    "## 241. Different Ways to Add Parentheses\n",
    "\n",
    "分治 加括号问题\n",
    "\n",
    "[241. Different Ways to Add Parentheses](https://leetcode.com/problems/different-ways-to-add-parentheses/description/)\n",
    "\n",
    "分治,暂时没太明白~\n"
   ]
  },
  {
   "cell_type": "code",
   "execution_count": null,
   "metadata": {},
   "outputs": [],
   "source": [
    "class Solution:\n",
    "    def diffWaysToCompute(self, input):\n",
    "#         \"\"\"\n",
    "#         :type input: str\n",
    "#         :rtype: List[int]\n",
    "#         \"\"\"\n",
    "        if input.isdigit():\n",
    "            return [int(input)]\n",
    "        res = []\n",
    "        for i in range(len(input)):\n",
    "            if input[i] in \"-+*\":\n",
    "                res1 = self.diffWaysToCompute(input[:i])\n",
    "                res2 = self.diffWaysToCompute(input[i+1:])\n",
    "                for j in res1:\n",
    "                    for k in res2:\n",
    "                        res.append(self.helper(j, k, input[i]))\n",
    "        return res\n",
    "\n",
    "    def helper(self, m, n, op):\n",
    "        if op == \"+\":\n",
    "            return m+n\n",
    "        elif op == \"-\":\n",
    "            return m-n\n",
    "        else:\n",
    "            return m*n"
   ]
  }
 ],
 "metadata": {
  "kernelspec": {
   "display_name": "Python 3",
   "language": "python",
   "name": "python3"
  },
  "language_info": {
   "codemirror_mode": {
    "name": "ipython",
    "version": 3
   },
   "file_extension": ".py",
   "mimetype": "text/x-python",
   "name": "python",
   "nbconvert_exporter": "python",
   "pygments_lexer": "ipython3",
   "version": "3.6.5"
  }
 },
 "nbformat": 4,
 "nbformat_minor": 2
}
