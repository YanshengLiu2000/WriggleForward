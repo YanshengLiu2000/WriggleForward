{
 "cells": [
  {
   "cell_type": "markdown",
   "metadata": {},
   "source": [
    "# Array_easy"
   ]
  },
  {
   "cell_type": "markdown",
   "metadata": {},
   "source": [
    "## 624 Maximum Distance in Arrays\n",
    "异或操作\n",
    "\n",
    "[136. Single Number](https://leetcode.com/problems/single-number/description/)\n",
    "\n"
   ]
  },
  {
   "cell_type": "code",
   "execution_count": null,
   "metadata": {},
   "outputs": [],
   "source": []
  },
  {
   "cell_type": "markdown",
   "metadata": {},
   "source": [
    "# Array_Medium"
   ]
  },
  {
   "cell_type": "markdown",
   "metadata": {},
   "source": [
    "## 3. Longest Substring Without Repeating Characters\n",
    "\n",
    "\n",
    "[3. Longest Substring Without Repeating Characters](https://leetcode.com/problems/longest-substring-without-repeating-characters/description/)\n",
    "\n",
    "\n",
    "用字典来做,时间复杂度较低. \n",
    "\n",
    "# 应该再好好看看~"
   ]
  },
  {
   "cell_type": "code",
   "execution_count": 3,
   "metadata": {},
   "outputs": [],
   "source": [
    "class Solution:\n",
    "    def lengthOfLongestSubstring(self, s):\n",
    "        \"\"\"\n",
    "        :type s: str\n",
    "        :rtype: int\n",
    "        \"\"\"\n",
    "        if len(s)<=1:\n",
    "            return len(s)\n",
    "        book={}\n",
    "        res=0# 用于记录结果\n",
    "        start=0# subarray 开始的点\n",
    "        for i in range(len(s)):\n",
    "            if s[i] in book and start<=book[s[i]]:\n",
    "                start=book[s[i]]+1# 更新开始的点\n",
    "            book[s[i]]=i# 更新对应字母的坐标\n",
    "            cur=i-start+1# 计算新的子串长度\n",
    "            res=max(res,cur)# 哪个大留哪个\n",
    "        return res"
   ]
  },
  {
   "cell_type": "markdown",
   "metadata": {},
   "source": [
    "## 463. Island Perimeter\n",
    "\n",
    "[463. Island Perimeter](https://leetcode.com/problems/island-perimeter/description/)\n",
    "\n",
    "\n",
    "先直接加4, 然后检查左侧和上方的格子. 如果检查到grid==1, 那么就-2 因为加重复了.\n",
    "在检查格子的时候,需要判断i>0 和 j>0 因为第一排(没有上一排)和第一列(没有上一列)一定不会重复.\n",
    "\n",
    "# 应该再好好看看~"
   ]
  },
  {
   "cell_type": "code",
   "execution_count": 4,
   "metadata": {},
   "outputs": [],
   "source": [
    "class Solution:\n",
    "    def islandPerimeter(self, grid):\n",
    "        \"\"\"\n",
    "        :type grid: List[List[int]]\n",
    "        :rtype: int\n",
    "        \"\"\"\n",
    "        res=0\n",
    "        for i in range(len(grid)):\n",
    "            for j in range(len(grid[i])):\n",
    "                if grid[i][j]:\n",
    "                    res+=4# \n",
    "                    if i>0 and grid[i-1][j]:\n",
    "                        res-=2\n",
    "                    if j>0 and grid[i][j-1]:\n",
    "                        res-=2\n",
    "        return res"
   ]
  },
  {
   "cell_type": "markdown",
   "metadata": {},
   "source": [
    "# Hash Table Easy"
   ]
  },
  {
   "cell_type": "markdown",
   "metadata": {},
   "source": [
    "## 1. Two Sum\n",
    "\n",
    "[1. Two Sum](https://leetcode.com/problems/two-sum/description/)\n",
    "\n",
    "类似于二和问题,但不是用双指针.\n",
    "对每个遇到过的元素求target-nums\\[i\\], 结果保存在字典中作为key,value是元素下标.\n",
    "\n",
    "本来想用双指针做来着, 结果发现test case里面有\\[-1,-2,-3,-4,-5\\], -8\n",
    "\n",
    "绝办法就是检查target 和 max(nums),如果max(nums)<0 就说明这里面全是负数\n"
   ]
  },
  {
   "cell_type": "code",
   "execution_count": 1,
   "metadata": {},
   "outputs": [],
   "source": [
    "class Solution:\n",
    "    def twoSum(self, nums, target):\n",
    "        \"\"\"\n",
    "        :type nums: List[int]\n",
    "        :type target: int\n",
    "        :rtype: List[int]\n",
    "        \"\"\"\n",
    "        book={}\n",
    "        for i in range(len(nums)):\n",
    "            if target-nums[i] in book:\n",
    "                return [i, book[target-nums[i]]]\n",
    "            book[nums[i]]=i"
   ]
  },
  {
   "cell_type": "markdown",
   "metadata": {},
   "source": [
    "## 242. Valid Anagram\n",
    "\n",
    "HashTable\n",
    "\n",
    "[242. Valid Anagram](https://leetcode.com/problems/valid-anagram/description/)\n",
    "\n",
    "比较简单,就是用字典存储就好了"
   ]
  },
  {
   "cell_type": "code",
   "execution_count": null,
   "metadata": {},
   "outputs": [],
   "source": [
    "class Solution:\n",
    "    def isAnagram(self, s, t):\n",
    "        \"\"\"\n",
    "        :type s: str\n",
    "        :type t: str\n",
    "        :rtype: bool\n",
    "        \"\"\"\n",
    "        book={}\n",
    "        for char in s:\n",
    "            if char in book:\n",
    "                book[char]+=1\n",
    "            else:\n",
    "                book[char]=1\n",
    "        for char in t:\n",
    "            if char in book:\n",
    "                book[char]-=1\n",
    "                if book[char]==0:\n",
    "                    del book[char]\n",
    "                elif book[char]<0:\n",
    "                    return False\n",
    "            else:\n",
    "                return False\n",
    "        if book:\n",
    "            return False\n",
    "        return True"
   ]
  }
 ],
 "metadata": {
  "kernelspec": {
   "display_name": "Python 3",
   "language": "python",
   "name": "python3"
  },
  "language_info": {
   "codemirror_mode": {
    "name": "ipython",
    "version": 3
   },
   "file_extension": ".py",
   "mimetype": "text/x-python",
   "name": "python",
   "nbconvert_exporter": "python",
   "pygments_lexer": "ipython3",
   "version": "3.6.5"
  }
 },
 "nbformat": 4,
 "nbformat_minor": 2
}
