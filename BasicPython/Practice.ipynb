{
 "cells": [
  {
   "cell_type": "code",
   "execution_count": 12,
   "metadata": {},
   "outputs": [
    {
     "name": "stdout",
     "output_type": "stream",
     "text": [
      "[98, 48, 39, 92, 70, 76, 52, 9, 95, 97, 37, 90, 39, 97, 97, 69, 40, 90, 19, 20]\n"
     ]
    },
    {
     "ename": "KeyboardInterrupt",
     "evalue": "",
     "output_type": "error",
     "traceback": [
      "\u001b[1;31m---------------------------------------------------------------------------\u001b[0m",
      "\u001b[1;31mKeyboardInterrupt\u001b[0m                         Traceback (most recent call last)",
      "\u001b[1;32m<ipython-input-12-075fb5e09285>\u001b[0m in \u001b[0;36m<module>\u001b[1;34m()\u001b[0m\n\u001b[0;32m     24\u001b[0m \u001b[1;33m\u001b[0m\u001b[0m\n\u001b[0;32m     25\u001b[0m \u001b[0mprint\u001b[0m\u001b[1;33m(\u001b[0m\u001b[0munsortList\u001b[0m\u001b[1;33m)\u001b[0m\u001b[1;33m\u001b[0m\u001b[0m\n\u001b[1;32m---> 26\u001b[1;33m \u001b[0mprint\u001b[0m\u001b[1;33m(\u001b[0m\u001b[0mSortingMethods\u001b[0m\u001b[1;33m(\u001b[0m\u001b[1;33m)\u001b[0m\u001b[1;33m.\u001b[0m\u001b[0mquickSort\u001b[0m\u001b[1;33m(\u001b[0m\u001b[0munsortList\u001b[0m\u001b[1;33m)\u001b[0m\u001b[1;33m)\u001b[0m\u001b[1;33m\u001b[0m\u001b[0m\n\u001b[0m",
      "\u001b[1;32m<ipython-input-12-075fb5e09285>\u001b[0m in \u001b[0;36mquickSort\u001b[1;34m(self, originalList)\u001b[0m\n\u001b[0;32m      6\u001b[0m \u001b[1;33m\u001b[0m\u001b[0m\n\u001b[0;32m      7\u001b[0m     \u001b[1;32mdef\u001b[0m \u001b[0mquickSort\u001b[0m\u001b[1;33m(\u001b[0m\u001b[0mself\u001b[0m\u001b[1;33m,\u001b[0m \u001b[0moriginalList\u001b[0m\u001b[1;33m)\u001b[0m\u001b[1;33m:\u001b[0m\u001b[1;33m\u001b[0m\u001b[0m\n\u001b[1;32m----> 8\u001b[1;33m         \u001b[0mres\u001b[0m\u001b[1;33m=\u001b[0m\u001b[0mself\u001b[0m\u001b[1;33m.\u001b[0m\u001b[0m_qs\u001b[0m\u001b[1;33m(\u001b[0m\u001b[0moriginalList\u001b[0m\u001b[1;33m[\u001b[0m\u001b[1;33m:\u001b[0m\u001b[1;33m]\u001b[0m\u001b[1;33m,\u001b[0m\u001b[1;36m0\u001b[0m\u001b[1;33m,\u001b[0m\u001b[0mlen\u001b[0m\u001b[1;33m(\u001b[0m\u001b[0moriginalList\u001b[0m\u001b[1;33m)\u001b[0m\u001b[1;33m-\u001b[0m\u001b[1;36m1\u001b[0m\u001b[1;33m)\u001b[0m\u001b[1;33m\u001b[0m\u001b[0m\n\u001b[0m\u001b[0;32m      9\u001b[0m         \u001b[1;32mreturn\u001b[0m \u001b[0mres\u001b[0m\u001b[1;33m\u001b[0m\u001b[0m\n\u001b[0;32m     10\u001b[0m \u001b[1;33m\u001b[0m\u001b[0m\n",
      "\u001b[1;32m<ipython-input-12-075fb5e09285>\u001b[0m in \u001b[0;36m_qs\u001b[1;34m(self, originalList, leftPointer, rightPointer)\u001b[0m\n\u001b[0;32m     20\u001b[0m             \u001b[0moriginalList\u001b[0m\u001b[1;33m[\u001b[0m\u001b[0mleft\u001b[0m\u001b[1;33m]\u001b[0m\u001b[1;33m,\u001b[0m\u001b[0moriginalList\u001b[0m\u001b[1;33m[\u001b[0m\u001b[0mright\u001b[0m\u001b[1;33m]\u001b[0m\u001b[1;33m=\u001b[0m\u001b[0moriginalList\u001b[0m\u001b[1;33m[\u001b[0m\u001b[0mright\u001b[0m\u001b[1;33m]\u001b[0m\u001b[1;33m,\u001b[0m \u001b[0moriginalList\u001b[0m\u001b[1;33m[\u001b[0m\u001b[0mleft\u001b[0m\u001b[1;33m]\u001b[0m\u001b[1;33m\u001b[0m\u001b[0m\n\u001b[0;32m     21\u001b[0m         \u001b[0moriginalList\u001b[0m\u001b[1;33m[\u001b[0m\u001b[0mleft\u001b[0m\u001b[1;33m]\u001b[0m\u001b[1;33m,\u001b[0m\u001b[0moriginalList\u001b[0m\u001b[1;33m[\u001b[0m\u001b[0mleftPointer\u001b[0m\u001b[1;33m]\u001b[0m\u001b[1;33m=\u001b[0m\u001b[0moriginalList\u001b[0m\u001b[1;33m[\u001b[0m\u001b[0mleftPointer\u001b[0m\u001b[1;33m]\u001b[0m\u001b[1;33m,\u001b[0m\u001b[0moriginalList\u001b[0m\u001b[1;33m[\u001b[0m\u001b[0mleft\u001b[0m\u001b[1;33m]\u001b[0m\u001b[1;33m\u001b[0m\u001b[0m\n\u001b[1;32m---> 22\u001b[1;33m         \u001b[0mself\u001b[0m\u001b[1;33m.\u001b[0m\u001b[0m_qs\u001b[0m\u001b[1;33m(\u001b[0m\u001b[0moriginalList\u001b[0m\u001b[1;33m,\u001b[0m \u001b[0mleftPointer\u001b[0m\u001b[1;33m,\u001b[0m \u001b[0mleft\u001b[0m\u001b[1;33m-\u001b[0m\u001b[1;36m1\u001b[0m\u001b[1;33m)\u001b[0m\u001b[1;33m\u001b[0m\u001b[0m\n\u001b[0m\u001b[0;32m     23\u001b[0m         \u001b[0mself\u001b[0m\u001b[1;33m.\u001b[0m\u001b[0m_qs\u001b[0m\u001b[1;33m(\u001b[0m\u001b[0moriginalList\u001b[0m\u001b[1;33m,\u001b[0m\u001b[0mright\u001b[0m\u001b[1;33m+\u001b[0m\u001b[1;36m1\u001b[0m\u001b[1;33m,\u001b[0m\u001b[0mrightPointer\u001b[0m\u001b[1;33m)\u001b[0m\u001b[1;33m\u001b[0m\u001b[0m\n\u001b[0;32m     24\u001b[0m \u001b[1;33m\u001b[0m\u001b[0m\n",
      "\u001b[1;32m<ipython-input-12-075fb5e09285>\u001b[0m in \u001b[0;36m_qs\u001b[1;34m(self, originalList, leftPointer, rightPointer)\u001b[0m\n\u001b[0;32m     20\u001b[0m             \u001b[0moriginalList\u001b[0m\u001b[1;33m[\u001b[0m\u001b[0mleft\u001b[0m\u001b[1;33m]\u001b[0m\u001b[1;33m,\u001b[0m\u001b[0moriginalList\u001b[0m\u001b[1;33m[\u001b[0m\u001b[0mright\u001b[0m\u001b[1;33m]\u001b[0m\u001b[1;33m=\u001b[0m\u001b[0moriginalList\u001b[0m\u001b[1;33m[\u001b[0m\u001b[0mright\u001b[0m\u001b[1;33m]\u001b[0m\u001b[1;33m,\u001b[0m \u001b[0moriginalList\u001b[0m\u001b[1;33m[\u001b[0m\u001b[0mleft\u001b[0m\u001b[1;33m]\u001b[0m\u001b[1;33m\u001b[0m\u001b[0m\n\u001b[0;32m     21\u001b[0m         \u001b[0moriginalList\u001b[0m\u001b[1;33m[\u001b[0m\u001b[0mleft\u001b[0m\u001b[1;33m]\u001b[0m\u001b[1;33m,\u001b[0m\u001b[0moriginalList\u001b[0m\u001b[1;33m[\u001b[0m\u001b[0mleftPointer\u001b[0m\u001b[1;33m]\u001b[0m\u001b[1;33m=\u001b[0m\u001b[0moriginalList\u001b[0m\u001b[1;33m[\u001b[0m\u001b[0mleftPointer\u001b[0m\u001b[1;33m]\u001b[0m\u001b[1;33m,\u001b[0m\u001b[0moriginalList\u001b[0m\u001b[1;33m[\u001b[0m\u001b[0mleft\u001b[0m\u001b[1;33m]\u001b[0m\u001b[1;33m\u001b[0m\u001b[0m\n\u001b[1;32m---> 22\u001b[1;33m         \u001b[0mself\u001b[0m\u001b[1;33m.\u001b[0m\u001b[0m_qs\u001b[0m\u001b[1;33m(\u001b[0m\u001b[0moriginalList\u001b[0m\u001b[1;33m,\u001b[0m \u001b[0mleftPointer\u001b[0m\u001b[1;33m,\u001b[0m \u001b[0mleft\u001b[0m\u001b[1;33m-\u001b[0m\u001b[1;36m1\u001b[0m\u001b[1;33m)\u001b[0m\u001b[1;33m\u001b[0m\u001b[0m\n\u001b[0m\u001b[0;32m     23\u001b[0m         \u001b[0mself\u001b[0m\u001b[1;33m.\u001b[0m\u001b[0m_qs\u001b[0m\u001b[1;33m(\u001b[0m\u001b[0moriginalList\u001b[0m\u001b[1;33m,\u001b[0m\u001b[0mright\u001b[0m\u001b[1;33m+\u001b[0m\u001b[1;36m1\u001b[0m\u001b[1;33m,\u001b[0m\u001b[0mrightPointer\u001b[0m\u001b[1;33m)\u001b[0m\u001b[1;33m\u001b[0m\u001b[0m\n\u001b[0;32m     24\u001b[0m \u001b[1;33m\u001b[0m\u001b[0m\n",
      "\u001b[1;32m<ipython-input-12-075fb5e09285>\u001b[0m in \u001b[0;36m_qs\u001b[1;34m(self, originalList, leftPointer, rightPointer)\u001b[0m\n\u001b[0;32m     20\u001b[0m             \u001b[0moriginalList\u001b[0m\u001b[1;33m[\u001b[0m\u001b[0mleft\u001b[0m\u001b[1;33m]\u001b[0m\u001b[1;33m,\u001b[0m\u001b[0moriginalList\u001b[0m\u001b[1;33m[\u001b[0m\u001b[0mright\u001b[0m\u001b[1;33m]\u001b[0m\u001b[1;33m=\u001b[0m\u001b[0moriginalList\u001b[0m\u001b[1;33m[\u001b[0m\u001b[0mright\u001b[0m\u001b[1;33m]\u001b[0m\u001b[1;33m,\u001b[0m \u001b[0moriginalList\u001b[0m\u001b[1;33m[\u001b[0m\u001b[0mleft\u001b[0m\u001b[1;33m]\u001b[0m\u001b[1;33m\u001b[0m\u001b[0m\n\u001b[0;32m     21\u001b[0m         \u001b[0moriginalList\u001b[0m\u001b[1;33m[\u001b[0m\u001b[0mleft\u001b[0m\u001b[1;33m]\u001b[0m\u001b[1;33m,\u001b[0m\u001b[0moriginalList\u001b[0m\u001b[1;33m[\u001b[0m\u001b[0mleftPointer\u001b[0m\u001b[1;33m]\u001b[0m\u001b[1;33m=\u001b[0m\u001b[0moriginalList\u001b[0m\u001b[1;33m[\u001b[0m\u001b[0mleftPointer\u001b[0m\u001b[1;33m]\u001b[0m\u001b[1;33m,\u001b[0m\u001b[0moriginalList\u001b[0m\u001b[1;33m[\u001b[0m\u001b[0mleft\u001b[0m\u001b[1;33m]\u001b[0m\u001b[1;33m\u001b[0m\u001b[0m\n\u001b[1;32m---> 22\u001b[1;33m         \u001b[0mself\u001b[0m\u001b[1;33m.\u001b[0m\u001b[0m_qs\u001b[0m\u001b[1;33m(\u001b[0m\u001b[0moriginalList\u001b[0m\u001b[1;33m,\u001b[0m \u001b[0mleftPointer\u001b[0m\u001b[1;33m,\u001b[0m \u001b[0mleft\u001b[0m\u001b[1;33m-\u001b[0m\u001b[1;36m1\u001b[0m\u001b[1;33m)\u001b[0m\u001b[1;33m\u001b[0m\u001b[0m\n\u001b[0m\u001b[0;32m     23\u001b[0m         \u001b[0mself\u001b[0m\u001b[1;33m.\u001b[0m\u001b[0m_qs\u001b[0m\u001b[1;33m(\u001b[0m\u001b[0moriginalList\u001b[0m\u001b[1;33m,\u001b[0m\u001b[0mright\u001b[0m\u001b[1;33m+\u001b[0m\u001b[1;36m1\u001b[0m\u001b[1;33m,\u001b[0m\u001b[0mrightPointer\u001b[0m\u001b[1;33m)\u001b[0m\u001b[1;33m\u001b[0m\u001b[0m\n\u001b[0;32m     24\u001b[0m \u001b[1;33m\u001b[0m\u001b[0m\n",
      "\u001b[1;32m<ipython-input-12-075fb5e09285>\u001b[0m in \u001b[0;36m_qs\u001b[1;34m(self, originalList, leftPointer, rightPointer)\u001b[0m\n\u001b[0;32m     16\u001b[0m             \u001b[1;32mwhile\u001b[0m \u001b[0moriginalList\u001b[0m\u001b[1;33m[\u001b[0m\u001b[0mright\u001b[0m\u001b[1;33m]\u001b[0m\u001b[1;33m>\u001b[0m\u001b[0mtarget\u001b[0m \u001b[1;32mand\u001b[0m \u001b[0mleft\u001b[0m\u001b[1;33m<\u001b[0m\u001b[0mright\u001b[0m\u001b[1;33m:\u001b[0m\u001b[1;33m\u001b[0m\u001b[0m\n\u001b[0;32m     17\u001b[0m                 \u001b[0mright\u001b[0m\u001b[1;33m-=\u001b[0m\u001b[1;36m1\u001b[0m\u001b[1;33m\u001b[0m\u001b[0m\n\u001b[1;32m---> 18\u001b[1;33m             \u001b[1;32mwhile\u001b[0m \u001b[0moriginalList\u001b[0m\u001b[1;33m[\u001b[0m\u001b[0mleft\u001b[0m\u001b[1;33m]\u001b[0m\u001b[1;33m<=\u001b[0m\u001b[0mtarget\u001b[0m \u001b[1;32mand\u001b[0m \u001b[0mleft\u001b[0m\u001b[1;33m<\u001b[0m\u001b[0mright\u001b[0m\u001b[1;33m:\u001b[0m\u001b[1;33m\u001b[0m\u001b[0m\n\u001b[0m\u001b[0;32m     19\u001b[0m                 \u001b[0mleft\u001b[0m\u001b[1;33m+=\u001b[0m\u001b[1;36m1\u001b[0m\u001b[1;33m\u001b[0m\u001b[0m\n\u001b[0;32m     20\u001b[0m             \u001b[0moriginalList\u001b[0m\u001b[1;33m[\u001b[0m\u001b[0mleft\u001b[0m\u001b[1;33m]\u001b[0m\u001b[1;33m,\u001b[0m\u001b[0moriginalList\u001b[0m\u001b[1;33m[\u001b[0m\u001b[0mright\u001b[0m\u001b[1;33m]\u001b[0m\u001b[1;33m=\u001b[0m\u001b[0moriginalList\u001b[0m\u001b[1;33m[\u001b[0m\u001b[0mright\u001b[0m\u001b[1;33m]\u001b[0m\u001b[1;33m,\u001b[0m \u001b[0moriginalList\u001b[0m\u001b[1;33m[\u001b[0m\u001b[0mleft\u001b[0m\u001b[1;33m]\u001b[0m\u001b[1;33m\u001b[0m\u001b[0m\n",
      "\u001b[1;31mKeyboardInterrupt\u001b[0m: "
     ]
    }
   ],
   "source": [
    "import random\n",
    "\n",
    "unsortList=[random.randint(0,100) for i in range(20)]\n",
    "\n",
    "class SortingMethods:\n",
    "    \n",
    "    def quickSort(self, originalList):\n",
    "        res=self._qs(originalList[:],0,len(originalList)-1)\n",
    "        return res\n",
    "    \n",
    "    def _qs(self,originalList,leftPointer,rightPointer):\n",
    "        left=leftPointer\n",
    "        right=rightPointer\n",
    "        target=originalList[leftPointer]\n",
    "        while left!=right:\n",
    "            while originalList[right]>target and left<right:\n",
    "                right-=1\n",
    "            while originalList[left]<=target and left<right:\n",
    "                left+=1\n",
    "            originalList[left],originalList[right]=originalList[right], originalList[left]\n",
    "        originalList[left],originalList[leftPointer]=originalList[leftPointer],originalList[left]\n",
    "        self._qs(originalList, leftPointer, left-1)\n",
    "        self._qs(originalList,right+1,rightPointer)\n",
    "        \n",
    "print(unsortList)\n",
    "print(SortingMethods().quickSort(unsortList))"
   ]
  },
  {
   "cell_type": "code",
   "execution_count": 22,
   "metadata": {},
   "outputs": [
    {
     "name": "stdout",
     "output_type": "stream",
     "text": [
      "[36, 18, 44, 55, 92, 11, 67, 28, 19, 19, 89, 91, 78, 31, 0, 22, 54, 8, 16, 66]\n",
      "[0, 8, 11, 16, 18, 19, 19, 22, 28, 31, 36, 44, 54, 55, 66, 67, 78, 89, 91, 92]\n",
      "[0, 8, 11, 16, 18, 19, 19, 22, 28, 31, 36, 44, 54, 55, 66, 67, 78, 89, 91, 92]\n",
      "[36, 18, 44, 55, 92, 11, 67, 28, 19, 19, 89, 91, 78, 31, 0, 22, 54, 8, 16, 66]\n"
     ]
    }
   ],
   "source": [
    "import random\n",
    "\n",
    "unsortList=[random.randint(0,100) for i in range(20)]\n",
    "\n",
    "class SortingMethods:\n",
    "    \n",
    "    def quickSort(self, originalList):\n",
    "        il=originalList[:]\n",
    "        res=self._qs(il,0,len(originalList)-1)\n",
    "        return il\n",
    "    def _qs(self,ol,lp,rp):\n",
    "        l=lp\n",
    "        r=rp\n",
    "        aim=lp\n",
    "        if l>r:\n",
    "            return \n",
    "        while l!=r:\n",
    "            while ol[r]>ol[aim] and l<r:\n",
    "                r-=1\n",
    "            while ol[l]<=ol[aim] and l<r:\n",
    "                l+=1\n",
    "            ol[l],ol[r]=ol[r],ol[l]\n",
    "        ol[aim],ol[l]=ol[l],ol[aim]\n",
    "        self._qs(ol,lp,l-1)\n",
    "        self._qs(ol,l+1,rp)\n"
   ]
  },
  {
   "cell_type": "code",
   "execution_count": 23,
   "metadata": {},
   "outputs": [
    {
     "ename": "SyntaxError",
     "evalue": "invalid syntax (<ipython-input-23-c27a92ae1579>, line 3)",
     "output_type": "error",
     "traceback": [
      "\u001b[1;36m  File \u001b[1;32m\"<ipython-input-23-c27a92ae1579>\"\u001b[1;36m, line \u001b[1;32m3\u001b[0m\n\u001b[1;33m    self.in=[]\u001b[0m\n\u001b[1;37m          ^\u001b[0m\n\u001b[1;31mSyntaxError\u001b[0m\u001b[1;31m:\u001b[0m invalid syntax\n"
     ]
    }
   ],
   "source": [
    "class Solution:\n",
    "    def __init__(self):\n",
    "        self.in=[]\n",
    "        self.out=[]\n",
    "    def push(self, node):\n",
    "        if not self.out:\n",
    "            self.in.append(node)\n",
    "        else:\n",
    "            for i in range(len(self.out)-1,-1,-1):\n",
    "                self.in.append(self.out[i])\n",
    "            self.in.append(node)\n",
    "    def pop(self):\n",
    "        if self.in:\n",
    "            for i in range(len(self.in,-1,-1)):\n",
    "                self.out.append(self.in[i])\n",
    "        self.out.pop()\n",
    "test=Solution()"
   ]
  },
  {
   "cell_type": "code",
   "execution_count": null,
   "metadata": {},
   "outputs": [],
   "source": []
  }
 ],
 "metadata": {
  "kernelspec": {
   "display_name": "Python 3",
   "language": "python",
   "name": "python3"
  },
  "language_info": {
   "codemirror_mode": {
    "name": "ipython",
    "version": 3
   },
   "file_extension": ".py",
   "mimetype": "text/x-python",
   "name": "python",
   "nbconvert_exporter": "python",
   "pygments_lexer": "ipython3",
   "version": "3.6.5"
  }
 },
 "nbformat": 4,
 "nbformat_minor": 2
}
