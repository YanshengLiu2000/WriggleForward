{
 "cells": [
  {
   "cell_type": "code",
   "execution_count": null,
   "metadata": {},
   "outputs": [],
   "source": [
    "print('''line1\n",
    "... line2\n",
    "... line3''')"
   ]
  },
  {
   "cell_type": "code",
   "execution_count": null,
   "metadata": {},
   "outputs": [],
   "source": [
    "a='ABC'\n",
    "b=a\n",
    "a='XYZ'\n",
    "print(b)"
   ]
  },
  {
   "cell_type": "code",
   "execution_count": null,
   "metadata": {},
   "outputs": [],
   "source": [
    "print('包含中文的字符串')\n",
    "print(len('包含中文的字符串'))"
   ]
  },
  {
   "cell_type": "code",
   "execution_count": null,
   "metadata": {},
   "outputs": [],
   "source": [
    "people=['a','b','c']\n",
    "print(people)\n",
    "people.insert(1,'insert')\n",
    "print(people)"
   ]
  },
  {
   "cell_type": "code",
   "execution_count": null,
   "metadata": {},
   "outputs": [],
   "source": [
    "def power(x,n=2):\n",
    "    s=1\n",
    "    while n>0:\n",
    "        n-=1\n",
    "        s*=x\n",
    "    return s\n",
    "numbers=[3,4]\n",
    "print(power(*numbers))\n"
   ]
  },
  {
   "cell_type": "code",
   "execution_count": null,
   "metadata": {},
   "outputs": [],
   "source": [
    "def n_times(n):\n",
    "    if n==1:\n",
    "        return n\n",
    "    else:\n",
    "        return n*n_times(n-1)\n",
    "print(n_times(4))"
   ]
  },
  {
   "cell_type": "code",
   "execution_count": null,
   "metadata": {},
   "outputs": [],
   "source": [
    "#利用切片操作，实现一个trim()函数，去除字符串首尾的空格，注意不要调用str的strip()方法：\n",
    "def trim(s):\n",
    "    space_flag=0\n",
    "    len1=len(s)\n",
    "    for i in range(len(s)):\n",
    "        if s[i] is not ' ':\n",
    "            s=s[i:]\n",
    "            space_flag=1\n",
    "            break\n",
    "    print(\"|{}|\".format(s))\n",
    "    for i in range(len(s))[::-1]:\n",
    "        if s[i] is not ' ':\n",
    "            print(i)\n",
    "            s=s[0:i+1]\n",
    "            space_flag=1\n",
    "            break\n",
    "    if not space_flag and len1==len(s):\n",
    "        s=''\n",
    "    print(\"|{}|\".format(s))\n",
    "    return s\n",
    "\n",
    "if trim('hello  ') != 'hello':\n",
    "    print('1测试失败!')\n",
    "elif trim('  hello') != 'hello':\n",
    "    print('2测试失败!')\n",
    "elif trim('  hello  ') != 'hello':\n",
    "    print('3测试失败!')\n",
    "elif trim('  hello  world  ') != 'hello  world':\n",
    "    print('4测试失败!')\n",
    "elif trim('') != '':\n",
    "    print('5测试失败!')\n",
    "elif trim('    ') != '':\n",
    "    print('6测试失败!')\n",
    "else:\n",
    "    print('测试成功!')\n",
    "\n",
    "trim('    ')"
   ]
  },
  {
   "cell_type": "code",
   "execution_count": 1,
   "metadata": {},
   "outputs": [
    {
     "name": "stdout",
     "output_type": "stream",
     "text": [
      "测试成功!\n"
     ]
    }
   ],
   "source": [
    "def findMinAndMax(L):\n",
    "    if len(L)==0:\n",
    "        return (None,None)\n",
    "    elif len(L)==1:\n",
    "        return (L[0],L[0])\n",
    "    else:\n",
    "        min=L[0]\n",
    "        max=L[1]\n",
    "        for i in L:\n",
    "            if min>i:\n",
    "                min=i\n",
    "            elif max<i:\n",
    "                max=i\n",
    "    return (min,max)\n",
    "\n",
    "if findMinAndMax([]) != (None, None):\n",
    "    print('测试失败!')\n",
    "elif findMinAndMax([7]) != (7, 7):\n",
    "    print('测试失败!')\n",
    "elif findMinAndMax([7, 1]) != (1, 7):\n",
    "    print('测试失败!')\n",
    "elif findMinAndMax([7, 1, 3, 9, 5]) != (1, 9):\n",
    "    print('测试失败!')\n",
    "else:\n",
    "    print('测试成功!')"
   ]
  },
  {
   "cell_type": "code",
   "execution_count": 6,
   "metadata": {},
   "outputs": [
    {
     "name": "stdout",
     "output_type": "stream",
     "text": [
      "x = A\n",
      "y = B\n",
      "z = C\n",
      "dict_items([('x', 'A'), ('y', 'B'), ('z', 'C')])\n",
      "['hello', 'world', 'apple']\n"
     ]
    }
   ],
   "source": [
    "d = {'x': 'A', 'y': 'B', 'z': 'C' }\n",
    "for k,v in d.items():\n",
    "    print(k,\"=\",v)\n",
    "print(d.items())\n",
    "\n",
    "L1 = ['Hello', 'World', 18, 'Apple', None]\n",
    "print([i.lower() for i in L1 if isinstance(i,str) is True])"
   ]
  },
  {
   "cell_type": "code",
   "execution_count": 10,
   "metadata": {},
   "outputs": [
    {
     "name": "stdout",
     "output_type": "stream",
     "text": [
      "['0', '1', '2', '3', '4', '5', '6', '7', '8', '9']\n"
     ]
    }
   ],
   "source": [
    "L=[i for i in range(10)]\n",
    "map(str,L)\n",
    "print(list(map(str,L)))"
   ]
  },
  {
   "cell_type": "code",
   "execution_count": 12,
   "metadata": {},
   "outputs": [
    {
     "name": "stdout",
     "output_type": "stream",
     "text": [
      "['Adam', 'Lisa', 'Bart']\n",
      "3\n"
     ]
    }
   ],
   "source": [
    "#利用map()函数，把用户输入的不规范的英文名字，变为首字母大写，其他小写的规范名字。输入：['adam', 'LISA', 'barT']，输出：['Adam', 'Lisa', 'Bart']：\n",
    "def normalize(name):\n",
    "    return name.capitalize()\n",
    "L1 = ['adam', 'LISA', 'barT']\n",
    "L2 = list(map(normalize, L1))\n",
    "print(L2)\n",
    "\n",
    "string1='123.456'\n",
    "print(string1.index('.'))"
   ]
  },
  {
   "cell_type": "code",
   "execution_count": 18,
   "metadata": {},
   "outputs": [
    {
     "name": "stdout",
     "output_type": "stream",
     "text": [
      "[('Adam', 92), ('Bart', 56), ('Bob', 75), ('Lisa', 88), ('Test', 6)]\n",
      "=========================\n",
      "[('Adam', 92), ('Lisa', 88), ('Bob', 75), ('Bart', 56), ('Test', 6)]\n"
     ]
    }
   ],
   "source": [
    "def by_name(t):\n",
    "    return t[0]\n",
    "def by_score(t):\n",
    "    return t[-1]\n",
    "L = [('Bob', 75), ('Adam', 92), ('Bart', 56), ('Lisa', 88), ('Test',6)]\n",
    "L2 = sorted(L, key=by_name)\n",
    "print(L2)\n",
    "print(\"=========================\")\n",
    "L2 = sorted(L, key=by_score,reverse=True)\n",
    "print(L2)"
   ]
  },
  {
   "cell_type": "code",
   "execution_count": null,
   "metadata": {},
   "outputs": [],
   "source": [
    "https://www.liaoxuefeng.com/wiki/0014316089557264a6b348958f449949df42a6d3a2e542c000/001431835236741e42daf5af6514f1a8917b8aaadff31bf000"
   ]
  }
 ],
 "metadata": {
  "kernelspec": {
   "display_name": "Python 3",
   "language": "python",
   "name": "python3"
  },
  "language_info": {
   "codemirror_mode": {
    "name": "ipython",
    "version": 3
   },
   "file_extension": ".py",
   "mimetype": "text/x-python",
   "name": "python",
   "nbconvert_exporter": "python",
   "pygments_lexer": "ipython3",
   "version": "3.6.5"
  }
 },
 "nbformat": 4,
 "nbformat_minor": 2
}
