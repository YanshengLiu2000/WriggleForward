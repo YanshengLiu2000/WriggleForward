{
 "cells": [
  {
   "cell_type": "code",
   "execution_count": null,
   "metadata": {},
   "outputs": [],
   "source": [
    "print('''line1\n",
    "... line2\n",
    "... line3''')"
   ]
  },
  {
   "cell_type": "code",
   "execution_count": null,
   "metadata": {},
   "outputs": [],
   "source": [
    "a='ABC'\n",
    "b=a\n",
    "a='XYZ'\n",
    "print(b)"
   ]
  },
  {
   "cell_type": "code",
   "execution_count": null,
   "metadata": {},
   "outputs": [],
   "source": [
    "print('包含中文的字符串')\n",
    "print(len('包含中文的字符串'))"
   ]
  },
  {
   "cell_type": "code",
   "execution_count": null,
   "metadata": {},
   "outputs": [],
   "source": [
    "people=['a','b','c']\n",
    "print(people)\n",
    "people.insert(1,'insert')\n",
    "print(people)"
   ]
  },
  {
   "cell_type": "code",
   "execution_count": null,
   "metadata": {},
   "outputs": [],
   "source": [
    "def power(x,n=2):\n",
    "    s=1\n",
    "    while n>0:\n",
    "        n-=1\n",
    "        s*=x\n",
    "    return s\n",
    "numbers=[3,4]\n",
    "print(power(*numbers))\n"
   ]
  },
  {
   "cell_type": "code",
   "execution_count": null,
   "metadata": {},
   "outputs": [],
   "source": [
    "def n_times(n):\n",
    "    if n==1:\n",
    "        return n\n",
    "    else:\n",
    "        return n*n_times(n-1)\n",
    "print(n_times(4))"
   ]
  },
  {
   "cell_type": "code",
   "execution_count": null,
   "metadata": {},
   "outputs": [],
   "source": [
    "#利用切片操作，实现一个trim()函数，去除字符串首尾的空格，注意不要调用str的strip()方法：\n",
    "def trim(s):\n",
    "    space_flag=0\n",
    "    len1=len(s)\n",
    "    for i in range(len(s)):\n",
    "        if s[i] is not ' ':\n",
    "            s=s[i:]\n",
    "            space_flag=1\n",
    "            break\n",
    "    print(\"|{}|\".format(s))\n",
    "    for i in range(len(s))[::-1]:\n",
    "        if s[i] is not ' ':\n",
    "            print(i)\n",
    "            s=s[0:i+1]\n",
    "            space_flag=1\n",
    "            break\n",
    "    if not space_flag and len1==len(s):\n",
    "        s=''\n",
    "    print(\"|{}|\".format(s))\n",
    "    return s\n",
    "\n",
    "if trim('hello  ') != 'hello':\n",
    "    print('1测试失败!')\n",
    "elif trim('  hello') != 'hello':\n",
    "    print('2测试失败!')\n",
    "elif trim('  hello  ') != 'hello':\n",
    "    print('3测试失败!')\n",
    "elif trim('  hello  world  ') != 'hello  world':\n",
    "    print('4测试失败!')\n",
    "elif trim('') != '':\n",
    "    print('5测试失败!')\n",
    "elif trim('    ') != '':\n",
    "    print('6测试失败!')\n",
    "else:\n",
    "    print('测试成功!')\n",
    "\n",
    "trim('    ')"
   ]
  },
  {
   "cell_type": "code",
   "execution_count": 1,
   "metadata": {},
   "outputs": [
    {
     "name": "stdout",
     "output_type": "stream",
     "text": [
      "测试成功!\n"
     ]
    }
   ],
   "source": [
    "def findMinAndMax(L):\n",
    "    if len(L)==0:\n",
    "        return (None,None)\n",
    "    elif len(L)==1:\n",
    "        return (L[0],L[0])\n",
    "    else:\n",
    "        min=L[0]\n",
    "        max=L[1]\n",
    "        for i in L:\n",
    "            if min>i:\n",
    "                min=i\n",
    "            elif max<i:\n",
    "                max=i\n",
    "    return (min,max)\n",
    "\n",
    "if findMinAndMax([]) != (None, None):\n",
    "    print('测试失败!')\n",
    "elif findMinAndMax([7]) != (7, 7):\n",
    "    print('测试失败!')\n",
    "elif findMinAndMax([7, 1]) != (1, 7):\n",
    "    print('测试失败!')\n",
    "elif findMinAndMax([7, 1, 3, 9, 5]) != (1, 9):\n",
    "    print('测试失败!')\n",
    "else:\n",
    "    print('测试成功!')"
   ]
  },
  {
   "cell_type": "code",
   "execution_count": 6,
   "metadata": {},
   "outputs": [
    {
     "name": "stdout",
     "output_type": "stream",
     "text": [
      "x = A\n",
      "y = B\n",
      "z = C\n",
      "dict_items([('x', 'A'), ('y', 'B'), ('z', 'C')])\n",
      "['hello', 'world', 'apple']\n"
     ]
    }
   ],
   "source": [
    "d = {'x': 'A', 'y': 'B', 'z': 'C' }\n",
    "for k,v in d.items():\n",
    "    print(k,\"=\",v)\n",
    "print(d.items())\n",
    "\n",
    "L1 = ['Hello', 'World', 18, 'Apple', None]\n",
    "print([i.lower() for i in L1 if isinstance(i,str) is True])"
   ]
  },
  {
   "cell_type": "code",
   "execution_count": 10,
   "metadata": {},
   "outputs": [
    {
     "name": "stdout",
     "output_type": "stream",
     "text": [
      "['0', '1', '2', '3', '4', '5', '6', '7', '8', '9']\n"
     ]
    }
   ],
   "source": [
    "L=[i for i in range(10)]\n",
    "map(str,L)\n",
    "print(list(map(str,L)))"
   ]
  },
  {
   "cell_type": "code",
   "execution_count": 12,
   "metadata": {},
   "outputs": [
    {
     "name": "stdout",
     "output_type": "stream",
     "text": [
      "['Adam', 'Lisa', 'Bart']\n",
      "3\n"
     ]
    }
   ],
   "source": [
    "#利用map()函数，把用户输入的不规范的英文名字，变为首字母大写，其他小写的规范名字。输入：['adam', 'LISA', 'barT']，输出：['Adam', 'Lisa', 'Bart']：\n",
    "def normalize(name):\n",
    "    return name.capitalize()\n",
    "L1 = ['adam', 'LISA', 'barT']\n",
    "L2 = list(map(normalize, L1))\n",
    "print(L2)\n",
    "\n",
    "string1='123.456'\n",
    "print(string1.index('.'))"
   ]
  },
  {
   "cell_type": "code",
   "execution_count": 18,
   "metadata": {},
   "outputs": [
    {
     "name": "stdout",
     "output_type": "stream",
     "text": [
      "[('Adam', 92), ('Bart', 56), ('Bob', 75), ('Lisa', 88), ('Test', 6)]\n",
      "=========================\n",
      "[('Adam', 92), ('Lisa', 88), ('Bob', 75), ('Bart', 56), ('Test', 6)]\n"
     ]
    }
   ],
   "source": [
    "def by_name(t):\n",
    "    return t[0]\n",
    "def by_score(t):\n",
    "    return t[-1]\n",
    "L = [('Bob', 75), ('Adam', 92), ('Bart', 56), ('Lisa', 88), ('Test',6)]\n",
    "L2 = sorted(L, key=by_name)\n",
    "print(L2)\n",
    "print(\"=========================\")\n",
    "L2 = sorted(L, key=by_score,reverse=True)\n",
    "print(L2)"
   ]
  },
  {
   "cell_type": "code",
   "execution_count": 15,
   "metadata": {},
   "outputs": [
    {
     "name": "stdout",
     "output_type": "stream",
     "text": [
      "2 3 4 5\n",
      "2 3 4\n"
     ]
    }
   ],
   "source": [
    "# Closure\n",
    "def createCounter():\n",
    "    def x():\n",
    "        n=1\n",
    "        while True:\n",
    "            n+=1\n",
    "            yield n\n",
    "    it=x()\n",
    "    def counter():\n",
    "        return next(it)\n",
    "    return counter\n",
    "A=createCounter()\n",
    "print(A(),A(),A(),A())\n",
    "\n",
    "def createCounter2():\n",
    "    i=1\n",
    "    while True:\n",
    "        i+=1\n",
    "        yield i\n",
    "B=createCounter()\n",
    "print(B(),B(),B())"
   ]
  },
  {
   "cell_type": "code",
   "execution_count": 40,
   "metadata": {},
   "outputs": [
    {
     "name": "stdout",
     "output_type": "stream",
     "text": [
      "[1, 3, 5, 7, 9, 11, 13, 15, 17, 19]\n"
     ]
    }
   ],
   "source": [
    "#lambda\n",
    "def is_odd(n):\n",
    "    return n % 2 == 1\n",
    "\n",
    "L = list(filter(is_odd, range(1, 20)))\n",
    "\n",
    "# print(next(lambda x: i for i in range(1,20) if i %2 ==1))\n",
    "L=list(filter(lambda x: x%2==1, range(1,20)))\n",
    "print(L)\n",
    "# print(list(map(lambda x: x, for i in range(1,20) if i%2==1)))\n",
    "# print(list(i for i in range(1,10) if i%2==1))"
   ]
  },
  {
   "cell_type": "code",
   "execution_count": 47,
   "metadata": {
    "scrolled": true
   },
   "outputs": [
    {
     "name": "stdout",
     "output_type": "stream",
     "text": [
      "This is log function:testFunction\n",
      "This is the test function!\n",
      "f\n",
      "do some thing!\n",
      "f was called!\n"
     ]
    },
    {
     "data": {
      "text/plain": [
       "2"
      ]
     },
     "execution_count": 47,
     "metadata": {},
     "output_type": "execute_result"
    }
   ],
   "source": [
    "#decorator !!!!!!!!!!!!!!!important know this a little bit late!\n",
    "\"\"\"\n",
    "https://www.zhihu.com/question/26930016\n",
    "\"\"\"\n",
    "\n",
    "def log(function):\n",
    "    def log_function(*arg,**kw):\n",
    "        print(\"This is log function:{}\".format(function.__name__))\n",
    "        return function(*arg,**kw)\n",
    "    return log_function\n",
    "@log\n",
    "def testFunction():\n",
    "    print(\"This is the test function!\")\n",
    "    \n",
    "testFunction()  \n",
    "#++++++++++++++++++++++++++++++++++++++++++++++++++\n",
    "from functools import wraps\n",
    "def logged(func):\n",
    "    @wraps(func)\n",
    "    def with_logging(*args, **kw):\n",
    "        print(func.__name__+' was called!')\n",
    "        return func(*args, **kw)\n",
    "    return with_logging\n",
    "@logged\n",
    "def f(x):\n",
    "    \"\"\"do some thing!\"\"\"\n",
    "    x+=1\n",
    "    return x\n",
    "print(f.__name__)\n",
    "print(f.__doc__)\n",
    "f(1)"
   ]
  },
  {
   "cell_type": "code",
   "execution_count": 54,
   "metadata": {},
   "outputs": [
    {
     "data": {
      "text/plain": [
       "15"
      ]
     },
     "execution_count": 54,
     "metadata": {},
     "output_type": "execute_result"
    }
   ],
   "source": [
    "#Partial function\n",
    "int('12345')\n",
    "\n",
    "import functools\n",
    "int2=functools.partial(int,base=2)\n",
    "int2('1111')"
   ]
  },
  {
   "cell_type": "code",
   "execution_count": 57,
   "metadata": {},
   "outputs": [
    {
     "name": "stdout",
     "output_type": "stream",
     "text": [
      "Students: 2\n",
      "测试通过!\n"
     ]
    }
   ],
   "source": [
    "class Student(object):\n",
    "    __slot__=('name','age')\n",
    "    count=0\n",
    "    \n",
    "    def __init__(self,name):\n",
    "        self.name=name\n",
    "        Student.count+=1\n",
    "# 测试:\n",
    "if Student.count != 0:\n",
    "    print('测试失败!')\n",
    "else:\n",
    "    bart = Student('Bart')\n",
    "    if Student.count != 1:\n",
    "        print('测试失败!')\n",
    "    else:\n",
    "        lisa = Student('Bart')\n",
    "        if Student.count != 2:\n",
    "            print('测试失败!')\n",
    "        else:\n",
    "            print('Students:', Student.count)\n",
    "            print('测试通过!')"
   ]
  },
  {
   "cell_type": "code",
   "execution_count": 64,
   "metadata": {},
   "outputs": [
    {
     "name": "stdout",
     "output_type": "stream",
     "text": [
      "resolution = 786432\n",
      "测试通过!\n"
     ]
    },
    {
     "ename": "AttributeError",
     "evalue": "'Screen' object has no attribute 'test'",
     "output_type": "error",
     "traceback": [
      "\u001b[1;31m---------------------------------------------------------------------------\u001b[0m",
      "\u001b[1;31mAttributeError\u001b[0m                            Traceback (most recent call last)",
      "\u001b[1;32m<ipython-input-64-fa90824726be>\u001b[0m in \u001b[0;36m<module>\u001b[1;34m()\u001b[0m\n\u001b[0;32m     31\u001b[0m \u001b[1;32melse\u001b[0m\u001b[1;33m:\u001b[0m\u001b[1;33m\u001b[0m\u001b[0m\n\u001b[0;32m     32\u001b[0m     \u001b[0mprint\u001b[0m\u001b[1;33m(\u001b[0m\u001b[1;34m'测试失败!'\u001b[0m\u001b[1;33m)\u001b[0m\u001b[1;33m\u001b[0m\u001b[0m\n\u001b[1;32m---> 33\u001b[1;33m \u001b[0ms\u001b[0m\u001b[1;33m.\u001b[0m\u001b[0mtest\u001b[0m\u001b[1;33m=\u001b[0m\u001b[1;36m10\u001b[0m\u001b[1;33m\u001b[0m\u001b[0m\n\u001b[0m\u001b[0;32m     34\u001b[0m \u001b[0mprint\u001b[0m\u001b[1;33m(\u001b[0m\u001b[0ms\u001b[0m\u001b[1;33m.\u001b[0m\u001b[0mtest\u001b[0m\u001b[1;33m)\u001b[0m\u001b[1;33m\u001b[0m\u001b[0m\n",
      "\u001b[1;31mAttributeError\u001b[0m: 'Screen' object has no attribute 'test'"
     ]
    }
   ],
   "source": [
    "class Screen(object):\n",
    "    __slots__=('_height','_width')\n",
    "    def __init__(self):\n",
    "        self._width=None\n",
    "        self._height=None\n",
    "#         self._resolution=None\n",
    "    @property\n",
    "    def width(self):\n",
    "        return self._width\n",
    "    @width.setter\n",
    "    def width(self,value):\n",
    "        self._width=value\n",
    "        \n",
    "    @property\n",
    "    def height(self):\n",
    "        return self._height\n",
    "    @height.setter\n",
    "    def height(self, value):\n",
    "        self._height=value\n",
    "        \n",
    "    @property\n",
    "    def resolution(self):\n",
    "        return self._width*self._height\n",
    "# 测试:\n",
    "s = Screen()\n",
    "s.width = 1024\n",
    "s.height = 768\n",
    "print('resolution =', s.resolution)\n",
    "if s.resolution == 786432:\n",
    "    print('测试通过!')\n",
    "else:\n",
    "    print('测试失败!')\n",
    "s.test=10\n",
    "print(s.test)"
   ]
  },
  {
   "cell_type": "code",
   "execution_count": 9,
   "metadata": {},
   "outputs": [
    {
     "name": "stdout",
     "output_type": "stream",
     "text": [
      "This is Student object, with name zz\n"
     ]
    },
    {
     "data": {
      "text/plain": [
       "This is Student object, with name test1"
      ]
     },
     "execution_count": 9,
     "metadata": {},
     "output_type": "execute_result"
    }
   ],
   "source": [
    "class Student(object):\n",
    "    def __init__(self, name):\n",
    "        self.name= name\n",
    "    def __str__(self):\n",
    "        return \"This is Student object, with name \"+self.name\n",
    "    def \n",
    "    __repr__ = __str__\n",
    "print(Student(\"zz\"))\n",
    "s=Student('test1')\n",
    "\n",
    "s\n"
   ]
  },
  {
   "cell_type": "code",
   "execution_count": 22,
   "metadata": {},
   "outputs": [
    {
     "name": "stdout",
     "output_type": "stream",
     "text": [
      "1\n",
      "1\n",
      "2\n",
      "3\n",
      "5\n",
      "8\n",
      "\n",
      "[1, 1, 2, 3, 5]\n"
     ]
    }
   ],
   "source": [
    "class Fib(object):\n",
    "    def __init__(self):\n",
    "        self.a, self.b =0,1\n",
    "    def __iter__(self):\n",
    "        return self\n",
    "    def __next__(self):\n",
    "        self.a, self.b =self.b, self.a+self.b\n",
    "        if self.a>10:\n",
    "            raise StopIteration()\n",
    "        return self.a\n",
    "#     def __getitem__(self, n):\n",
    "#         a,b=1,1\n",
    "#         for x in range(n):\n",
    "#             a,b=b,a+b\n",
    "#         return a\n",
    "\n",
    "    def __getitem__(self, n):\n",
    "        if isinstance(n, int):\n",
    "            a,b=1,1\n",
    "            for x in range(n):\n",
    "                a,b=b,a+b\n",
    "            return a\n",
    "        elif isinstance(n, slice):\n",
    "            start = n.start\n",
    "            stop = n.stop\n",
    "            if start is None:\n",
    "                start=0\n",
    "                a,b = 1,1\n",
    "                L=[]\n",
    "#                 for x in range(start, stop,1):\n",
    "#                     L.append(a)\n",
    "#                     a,b=b,a+b\n",
    "                for x in range(stop):\n",
    "                    if x >= start:\n",
    "                        L.append(a)\n",
    "                    a, b = b, a + b\n",
    "                return L\n",
    "for i in Fib():\n",
    "    print(i)\n",
    "print()\n",
    "print(Fib()[:5])"
   ]
  },
  {
   "cell_type": "code",
   "execution_count": 37,
   "metadata": {},
   "outputs": [
    {
     "name": "stdout",
     "output_type": "stream",
     "text": [
      "zhazha!\n",
      "My name is zzzzz.\n",
      "None\n"
     ]
    }
   ],
   "source": [
    "class Student(object):\n",
    "    def __init__(self, name):\n",
    "        self.name = \"zz\" if name is None else name\n",
    "        \n",
    "    def __getattr__(self, attr):\n",
    "        if attr == 'score':\n",
    "            return \"zhazha!\"\n",
    "        raise AttributeError('Student obejct has not this attribute %s' % attr)\n",
    "    def __call__(self):\n",
    "        print('My name is %s.'% self.name)\n",
    "#         return 'My name is %s'% self.name\n",
    "print(Student('zzzzz').score)\n",
    "print(Student('zzzzz')())\n",
    "# print(Student().test)"
   ]
  },
  {
   "cell_type": "code",
   "execution_count": null,
   "metadata": {},
   "outputs": [],
   "source": [
    "# https://www.liaoxuefeng.com/wiki/0014316089557264a6b348958f449949df42a6d3a2e542c000/0014319106919344c4ef8b1e04c48778bb45796e0335839000\n",
    "#     need check this again!!!!!!!!!!!!!!!!!!!!!!!!"
   ]
  },
  {
   "cell_type": "code",
   "execution_count": 10,
   "metadata": {},
   "outputs": [
    {
     "name": "stdout",
     "output_type": "stream",
     "text": [
      "This is yield_test:\n",
      "i= 0\n",
      "This is CALL,i ==1 ,\n",
      "====================\n",
      "i= 1\n",
      "This is CALL,i ==2 ,\n",
      "====================\n",
      "i= 2\n",
      "This is CALL,i ==3 ,\n",
      "====================\n",
      "i= 3\n",
      "This is CALL,i ==4 ,\n",
      "====================\n",
      "i= 4\n",
      "This is CALL,i ==5 ,\n",
      "====================\n",
      "Do something!\n",
      "end!\n",
      "This is yield_test:\n",
      "i= 0\n",
      "This is CALL,i ==1\n",
      "====================\n",
      "i= 1\n",
      "This is CALL,i ==2\n"
     ]
    }
   ],
   "source": [
    "#yield again\n",
    "\"\"\"\n",
    "http://pyzh.readthedocs.io/en/latest/the-python-yield-keyword-explained.html\n",
    "https://blog.csdn.net/xionghuixionghui/article/details/68953785\n",
    "\"\"\"\n",
    "import time\n",
    "\n",
    "def yield_test(n):\n",
    "    print('This is yield_test:')\n",
    "    for i in range(n):\n",
    "        print('i=',i)\n",
    "        yield call(i)\n",
    "        time.sleep(2)\n",
    "        print('====================')\n",
    "    print('Do something!')\n",
    "    print('end!')\n",
    "def call(i):\n",
    "    return 'This is CALL,i =='+str(i+1)\n",
    "\n",
    "for i in yield_test(5):\n",
    "    print(i,',')\n",
    "t=yield_test(5)\n",
    "print(t.send(None))\n",
    "print(next(t))"
   ]
  },
  {
   "cell_type": "code",
   "execution_count": null,
   "metadata": {},
   "outputs": [],
   "source": [
    "# 异步IO例子：适配Python3.5，使用async和await关键字\n",
    "async def hello(index):       # 通过关键字async定义协程\n",
    "    print('Hello world! index=%s, thread=%s' % (index, threading.currentThread()))\n",
    "    await asyncio.sleep(1)     # 模拟IO任务\n",
    "    print('Hello again! index=%s, thread=%s' % (index, threading.currentThread()))\n",
    "\n",
    "loop = asyncio.get_event_loop()     # 得到一个事件循环模型\n",
    "tasks = [hello(1), hello(2)]        # 初始化任务列表\n",
    "loop.run_until_complete(asyncio.wait(tasks))    # 执行任务\n",
    "loop.close()   "
   ]
  },
  {
   "cell_type": "code",
   "execution_count": null,
   "metadata": {},
   "outputs": [],
   "source": []
  }
 ],
 "metadata": {
  "kernelspec": {
   "display_name": "Python 3",
   "language": "python",
   "name": "python3"
  },
  "language_info": {
   "codemirror_mode": {
    "name": "ipython",
    "version": 3
   },
   "file_extension": ".py",
   "mimetype": "text/x-python",
   "name": "python",
   "nbconvert_exporter": "python",
   "pygments_lexer": "ipython3",
   "version": "3.6.5"
  }
 },
 "nbformat": 4,
 "nbformat_minor": 2
}
