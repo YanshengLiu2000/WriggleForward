{
 "cells": [
  {
   "cell_type": "code",
   "execution_count": 9,
   "metadata": {},
   "outputs": [
    {
     "name": "stdout",
     "output_type": "stream",
     "text": [
      "13\n",
      "[4, 4, 5, 13, 13]\n"
     ]
    }
   ],
   "source": [
    "# arr=[1,2,4,1,7,8,3]\n",
    "arr=[4,1,1,9,1]\n",
    "\n",
    "def rec_opt(arr,i):\n",
    "    if i ==0:\n",
    "        return arr[0]\n",
    "    elif i ==1:\n",
    "        return max(arr[0],arr[1])\n",
    "    A=rec_opt(arr,i-2)+arr[i]\n",
    "    B=rec_opt(arr,i-1)\n",
    "    return max(A,B)\n",
    "print(rec_opt(arr,4))\n",
    "\n",
    "def dp_opt(arr):\n",
    "    opt=[0 for i in range(len(arr))]\n",
    "    for i in range(len(opt)):\n",
    "        if i == 0:\n",
    "            opt[i] = arr[0]\n",
    "        elif i ==1:\n",
    "            opt[i] = max(arr[0],arr[1])\n",
    "        else:\n",
    "            A=opt[i-2]+arr[i]\n",
    "            B= opt[i-1]\n",
    "            opt[i]=max(A,B)\n",
    "    return opt\n",
    "print(dp_opt(arr))      "
   ]
  },
  {
   "cell_type": "code",
   "execution_count": 35,
   "metadata": {},
   "outputs": [
    {
     "name": "stdout",
     "output_type": "stream",
     "text": [
      "False\n",
      "========================\n",
      "[True, False, False, True, False, False, False, False, False, False]\n",
      "[True, False, False, True, False, False, False, False, False, False]\n",
      "[True, False, False, True, True, False, False, True, False, False]\n",
      "[True, False, False, True, True, False, False, True, False, False]\n",
      "[True, False, False, True, True, True, False, True, True, True]\n",
      "[True, False, True, True, True, True, True, True, True, True]\n"
     ]
    }
   ],
   "source": [
    "arr=[3,34,4,12,5,2]\n",
    "s=9\n",
    "\n",
    "def rec_subset(arr,i,s):\n",
    "#     print(i)\n",
    "    if s == 0:\n",
    "        return True\n",
    "    elif i==0:\n",
    "        return arr[0]==s\n",
    "    else:\n",
    "        if arr[i]>s:\n",
    "            return rec_subset(arr, i-1,s)\n",
    "        else:\n",
    "            A= rec_subset(arr,i-1,s-arr[i])\n",
    "            B= rec_subset(arr,i-1,s)\n",
    "            return A or B\n",
    "\n",
    "print(rec_subset(arr,5,13))\n",
    "print('========================')\n",
    "\n",
    "def dp_subset(arr,s):\n",
    "    result=[[bool for i in range(s+1)] for j in range(len(arr))]\n",
    "    for i in range(s+1):\n",
    "        result[0][i]= False\n",
    "    result[0][arr[0]]=True\n",
    "    for i in range(len(arr)):\n",
    "        result[i][0]=True\n",
    "    for i in range(1,len(arr)):\n",
    "        for ss in range(1,s+1):\n",
    "            if arr[i]>ss:\n",
    "                result[i][ss]=result[i-1][ss]\n",
    "            else:\n",
    "                A=result[i-1][ss-arr[i]]\n",
    "                B=result[i-1][ss]\n",
    "                result[i][ss]=A or B\n",
    "#     print(result[-1][-1])\n",
    "    for i in range(len(arr)):\n",
    "        print(result[i])\n",
    "    \n",
    "    \n",
    "    \n",
    "    \n",
    "    \n",
    "# def dp_subset(arr,s):\n",
    "#     result=[[bool for i in range(s)]for j in range(len(arr))]\n",
    "#     for i in range(s):\n",
    "#         result[0][i]=False\n",
    "#     result[0][arr[0]]=True\n",
    "#     for i in range(len(arr)):\n",
    "#         result[i][0]=True\n",
    "# #     result[0][i for i in range(len(arr))]=False\n",
    "# #     result[i for i in range(s)][0]=True\n",
    "\n",
    "# #     for i in result:\n",
    "# #         print(i)\n",
    "#     for i in range(1,len(arr)):\n",
    "#         for j in range(1,s):\n",
    "#             if arr[i]>j:\n",
    "#                 result[i][j]=result[i-1][j]\n",
    "#             else:\n",
    "#                 A=result[i-1][j-arr[i]]\n",
    "#                 B=result[i-1][j]\n",
    "#                 result[i][j]=A or B\n",
    "#     print(result[-1][-1])\n",
    "            \n",
    "dp_subset(arr,9)"
   ]
  },
  {
   "cell_type": "code",
   "execution_count": 39,
   "metadata": {},
   "outputs": [
    {
     "name": "stdout",
     "output_type": "stream",
     "text": [
      "6\n"
     ]
    }
   ],
   "source": [
    "nums=[-2,1,-3,4,-1,2,1,-5,4]\n",
    "\n",
    "dp=[int for i in range(len(nums))]\n",
    "\n",
    "dp[0]=nums[0]\n",
    "result=dp[0]\n",
    "for i in range(1,len(nums)):\n",
    "    if dp[i-1]>0:\n",
    "        dp[i]=dp[i-1]+nums[i]\n",
    "    else:\n",
    "        dp[i]=nums[i]\n",
    "    result=dp[i] if result<dp[i]\n",
    "print(max(dp))\n"
   ]
  },
  {
   "cell_type": "code",
   "execution_count": 65,
   "metadata": {},
   "outputs": [
    {
     "name": "stdout",
     "output_type": "stream",
     "text": [
      ">>>>>>>>||<<<<<<<<<<\n",
      "[True, False, False, False, <class 'bool'>]\n",
      "[<class 'bool'>, True, False, False, False]\n",
      "[<class 'bool'>, <class 'bool'>, True, False, False]\n",
      "[<class 'bool'>, <class 'bool'>, <class 'bool'>, True, False]\n",
      "[<class 'bool'>, <class 'bool'>, <class 'bool'>, <class 'bool'>, True]\n"
     ]
    }
   ],
   "source": [
    "def longestPalindrome(s):\n",
    "    \"\"\"\n",
    "    :type s: str\n",
    "    :rtype: str\n",
    "    \"\"\"\n",
    "    max=''\n",
    "    dp=[[bool for i in range(len(s))]for i in range(len(s))]\n",
    "    for i in range(len(s)):\n",
    "        dp[i][i]=True\n",
    "    for i in range(len(s)-1):\n",
    "        if s[i] == s[i+1]:\n",
    "            dp[i][i+1]=True\n",
    "    for i in range(len(s)):\n",
    "        for j in range(i+1,len(s)):\n",
    "            if s[i] == s[j]:\n",
    "                if i+1==j:\n",
    "                    dp[i][j]=True\n",
    "                else:\n",
    "                    dp[i][j]= dp[i+1][j-1]\n",
    "            else:\n",
    "                dp[i][j] = False\n",
    "            if dp[i][j] is True and j-i+1>len(max):\n",
    "                max=s[i:j+1]\n",
    "                print(max)\n",
    "    return dp,max\n",
    "s='abcda'\n",
    "dp,max=longestPalindrome(s)\n",
    "print(\">>>>>>>>|{}|<<<<<<<<<<\".format(max))\n",
    "for i in dp:\n",
    "    print(i)"
   ]
  },
  {
   "cell_type": "code",
   "execution_count": null,
   "metadata": {},
   "outputs": [],
   "source": [
    "def fib(s):\n",
    "    dp=[-1 for i in range(s)]\n",
    "    dp[0]=1\n",
    "    dp[1]=2\n",
    "    for i in range(2,s):\n",
    "        dp[i]=dp[i-1]+dp[i-2]\n",
    "    return dp[-1]\n",
    "\n",
    "    "
   ]
  }
 ],
 "metadata": {
  "kernelspec": {
   "display_name": "Python 3",
   "language": "python",
   "name": "python3"
  },
  "language_info": {
   "codemirror_mode": {
    "name": "ipython",
    "version": 3
   },
   "file_extension": ".py",
   "mimetype": "text/x-python",
   "name": "python",
   "nbconvert_exporter": "python",
   "pygments_lexer": "ipython3",
   "version": "3.6.5"
  }
 },
 "nbformat": 4,
 "nbformat_minor": 2
}
