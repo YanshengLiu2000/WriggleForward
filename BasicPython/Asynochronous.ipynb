{
 "cells": [
  {
   "cell_type": "markdown",
   "metadata": {},
   "source": [
    "## 异步编程 Asynochronous Programming\n",
    "\n",
    "异步和多线程区别:\n",
    "    * 多线程是由操作系统决定运行/挂起, 异步的话(单一线程),程序员需要假设线程可能在任何时间被挂起或替换. \n",
    "    \n",
    "https://www.zhihu.com/question/28550867\n",
    "\n",
    "这是一个举例说明多线程和异步区别的帖子.\n",
    "\n",
    "简单地说, 异步强调的非阻塞, 你要是等待数据就靠边站,然我算别的.这是一种编程模式.\n",
    "主要解决了UI响应被阻塞的问题.\n",
    "\n",
    "多线程是对CPU剩余价值的压榨,是一种技术,强调并发\n",
    "\n",
    "并行虽然也是对CPU剩余劳动力的压榨, 但它强调的是高效完成计算任务.\n",
    "\n",
    "![pic](https://python-parallel-programmning-cookbook.readthedocs.io/zh_CN/latest/_images/pooling-management.png)"
   ]
  },
  {
   "cell_type": "markdown",
   "metadata": {},
   "source": [
    " 下面是对异步编程(多线程,多进程,单一线程)的比较. 理解线程池或者进程池的话,下面没有注释的代码更直观一点"
   ]
  },
  {
   "cell_type": "code",
   "execution_count": null,
   "metadata": {},
   "outputs": [],
   "source": [
    "import concurrent.futures\n",
    "import time\n",
    "from concurrent.futures import ProcessPoolExecutor, ThreadPoolExecutor\n",
    "\n",
    "number_list=[i for i in range(1,11)]\n",
    "\n",
    "def evaluate_item(x):\n",
    "    result=count(x)\n",
    "    return result\n",
    "\n",
    "def count(number):\n",
    "    n=0\n",
    "    for i in range(0,1000000):\n",
    "        n+=1\n",
    "    return n*number\n",
    "\n",
    "def deal_num(n):\n",
    "    return n**2\n",
    "\n",
    "if __name__=='__main__':\n",
    "    # start=time.time()\n",
    "    # for item in number_list:\n",
    "    #     print(evaluate_item(item))\n",
    "    # print('Sequential execution in '+str(time.time()-start)+' seconds')\n",
    "    #\n",
    "    # #threading pool!\n",
    "    # start=time.time()\n",
    "    # with concurrent.futures.ThreadPoolExecutor(max_workers=5) as executor:\n",
    "    #     futures=[executor.submit(evaluate_item, item) for item in number_list]\n",
    "    #     for future in concurrent.futures.as_completed(futures):\n",
    "    #         print(future.result())\n",
    "    # print('Thread pool execution in '+str(time.time()-start)+' seconds')\n",
    "    #\n",
    "    # #processing pool\n",
    "    # start=time.time()\n",
    "    # with concurrent.futures.ProcessPoolExecutor(max_workers=5) as executor:\n",
    "    #     futures = [executor.submit(evaluate_item, item) for item in number_list]\n",
    "    #     for future in concurrent.futures.as_completed(futures):\n",
    "    #         print(future.result())\n",
    "    # print('Process pool execution in '+str(time.time()-start)+' seconds')\n",
    "\n",
    "    \"\"\"\n",
    "    下面的相对更好理解线程池和进程池\n",
    "    \"\"\"\n",
    "    p=ProcessPoolExecutor()\n",
    "    obj_1=[]\n",
    "    for i in range(100):\n",
    "        obj=p.submit(deal_num, i)\n",
    "        obj_1.append(obj)\n",
    "    p.shutdown()\n",
    "    print([obj.result() for obj in obj_1])\n",
    "\n",
    "    t=ThreadPoolExecutor()\n",
    "    obj_2=[]\n",
    "    for i in range(100):\n",
    "        obj=t.submit(deal_num,i)\n",
    "        obj_2.append(obj)\n",
    "    t.shutdown()\n",
    "    print([obj.result() for obj in obj_1])\n"
   ]
  },
  {
   "cell_type": "markdown",
   "metadata": {},
   "source": [
    "https://lotabout.me/2017/Python-Generator/\n",
    "\n",
    "这个网站是讲迭代器和生成器的,感觉讲的不错\n",
    "\n",
    "生成器在运行到yield的时候返回yield 后面的东西\n",
    "\n",
    "然后生成器的send()功能是,\n",
    "\n",
    "用send()过去的东西代替yield.\n",
    "在avg() 这个例子里面就是send(3)然后sum+=3\n",
    "\n",
    "在一开始的时候因为生成器并没有在yield处等待,所有我们需要send(None)\n",
    "\n",
    "在本例中, next(x)xiang相当于generator.send(None)\n",
    "\n",
    "yield主要为了解决协程问题."
   ]
  },
  {
   "cell_type": "code",
   "execution_count": 13,
   "metadata": {},
   "outputs": [
    {
     "name": "stdout",
     "output_type": "stream",
     "text": [
      "sum=2, num=1\n"
     ]
    },
    {
     "ename": "TypeError",
     "evalue": "unsupported operand type(s) for +=: 'int' and 'NoneType'",
     "output_type": "error",
     "traceback": [
      "\u001b[1;31m---------------------------------------------------------------------------\u001b[0m",
      "\u001b[1;31mTypeError\u001b[0m                                 Traceback (most recent call last)",
      "\u001b[1;32m<ipython-input-13-57db2f80c2bf>\u001b[0m in \u001b[0;36m<module>\u001b[1;34m()\u001b[0m\n\u001b[0;32m     12\u001b[0m \u001b[0mx\u001b[0m\u001b[1;33m.\u001b[0m\u001b[0msend\u001b[0m\u001b[1;33m(\u001b[0m\u001b[1;36m2\u001b[0m\u001b[1;33m)\u001b[0m\u001b[1;33m\u001b[0m\u001b[0m\n\u001b[0;32m     13\u001b[0m \u001b[1;31m# x.send(3)\u001b[0m\u001b[1;33m\u001b[0m\u001b[1;33m\u001b[0m\u001b[0m\n\u001b[1;32m---> 14\u001b[1;33m \u001b[0mnext\u001b[0m\u001b[1;33m(\u001b[0m\u001b[0mx\u001b[0m\u001b[1;33m)\u001b[0m\u001b[1;33m\u001b[0m\u001b[0m\n\u001b[0m",
      "\u001b[1;32m<ipython-input-13-57db2f80c2bf>\u001b[0m in \u001b[0;36mavg\u001b[1;34m()\u001b[0m\n\u001b[0;32m      3\u001b[0m     \u001b[0mnum\u001b[0m\u001b[1;33m=\u001b[0m\u001b[1;36m0\u001b[0m\u001b[1;33m\u001b[0m\u001b[0m\n\u001b[0;32m      4\u001b[0m     \u001b[1;32mwhile\u001b[0m \u001b[1;32mTrue\u001b[0m\u001b[1;33m:\u001b[0m\u001b[1;33m\u001b[0m\u001b[0m\n\u001b[1;32m----> 5\u001b[1;33m         \u001b[0msum\u001b[0m\u001b[1;33m+=\u001b[0m\u001b[1;33m(\u001b[0m\u001b[1;32myield\u001b[0m \u001b[0msum\u001b[0m\u001b[1;33m/\u001b[0m\u001b[0mnum\u001b[0m \u001b[1;32mif\u001b[0m \u001b[0mnum\u001b[0m\u001b[1;33m>\u001b[0m\u001b[1;36m0\u001b[0m \u001b[1;32melse\u001b[0m \u001b[1;36m0\u001b[0m\u001b[1;33m)\u001b[0m\u001b[1;33m\u001b[0m\u001b[0m\n\u001b[0m\u001b[0;32m      6\u001b[0m         \u001b[0mnum\u001b[0m\u001b[1;33m+=\u001b[0m\u001b[1;36m1\u001b[0m\u001b[1;33m\u001b[0m\u001b[0m\n\u001b[0;32m      7\u001b[0m         \u001b[0mprint\u001b[0m\u001b[1;33m(\u001b[0m\u001b[1;34m'sum={}, num={}'\u001b[0m\u001b[1;33m.\u001b[0m\u001b[0mformat\u001b[0m\u001b[1;33m(\u001b[0m\u001b[0msum\u001b[0m\u001b[1;33m,\u001b[0m\u001b[0mnum\u001b[0m\u001b[1;33m)\u001b[0m\u001b[1;33m)\u001b[0m\u001b[1;33m\u001b[0m\u001b[0m\n",
      "\u001b[1;31mTypeError\u001b[0m: unsupported operand type(s) for +=: 'int' and 'NoneType'"
     ]
    }
   ],
   "source": [
    "def avg():\n",
    "    sum=0\n",
    "    num=0\n",
    "    while True:\n",
    "        sum+=(yield sum/num if num>0 else 0)\n",
    "        num+=1\n",
    "        print('sum={}, num={}'.format(sum,num))\n",
    "\n",
    "x=avg()\n",
    "\n",
    "x.send(None)\n",
    "x.send(2)\n",
    "# x.send(3)\n",
    "next(x)"
   ]
  },
  {
   "cell_type": "code",
   "execution_count": null,
   "metadata": {},
   "outputs": [],
   "source": []
  },
  {
   "cell_type": "code",
   "execution_count": null,
   "metadata": {},
   "outputs": [],
   "source": []
  },
  {
   "cell_type": "code",
   "execution_count": null,
   "metadata": {},
   "outputs": [],
   "source": []
  },
  {
   "cell_type": "code",
   "execution_count": null,
   "metadata": {},
   "outputs": [],
   "source": []
  },
  {
   "cell_type": "code",
   "execution_count": null,
   "metadata": {},
   "outputs": [],
   "source": []
  },
  {
   "cell_type": "code",
   "execution_count": null,
   "metadata": {},
   "outputs": [],
   "source": []
  }
 ],
 "metadata": {
  "kernelspec": {
   "display_name": "Python 3",
   "language": "python",
   "name": "python3"
  },
  "language_info": {
   "codemirror_mode": {
    "name": "ipython",
    "version": 3
   },
   "file_extension": ".py",
   "mimetype": "text/x-python",
   "name": "python",
   "nbconvert_exporter": "python",
   "pygments_lexer": "ipython3",
   "version": "3.6.5"
  }
 },
 "nbformat": 4,
 "nbformat_minor": 2
}
