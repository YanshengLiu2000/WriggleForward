{
 "cells": [
  {
   "cell_type": "markdown",
   "metadata": {},
   "source": [
    "## 异步编程 Asynochronous Programming\n",
    "\n",
    "异步和多线程区别:\n",
    "    * 多线程是由操作系统决定运行/挂起, 异步的话(单一线程),程序员需要假设线程可能在任何时间被挂起或替换. \n",
    "    \n",
    "https://www.zhihu.com/question/28550867\n",
    "\n",
    "这是一个举例说明多线程和异步区别的帖子.\n",
    "\n",
    "简单地说, 异步强调的非阻塞, 你要是等待数据就靠边站,然我算别的.这是一种编程模式.\n",
    "主要解决了UI响应被阻塞的问题.\n",
    "\n",
    "多线程是对CPU剩余价值的压榨,是一种技术,强调并发\n",
    "\n",
    "并行虽然也是对CPU剩余劳动力的压榨, 但它强调的是高效完成计算任务."
   ]
  },
  {
   "cell_type": "code",
   "execution_count": null,
   "metadata": {},
   "outputs": [],
   "source": []
  },
  {
   "cell_type": "code",
   "execution_count": null,
   "metadata": {},
   "outputs": [],
   "source": []
  },
  {
   "cell_type": "code",
   "execution_count": null,
   "metadata": {},
   "outputs": [],
   "source": []
  },
  {
   "cell_type": "code",
   "execution_count": null,
   "metadata": {},
   "outputs": [],
   "source": []
  },
  {
   "cell_type": "code",
   "execution_count": null,
   "metadata": {},
   "outputs": [],
   "source": []
  },
  {
   "cell_type": "code",
   "execution_count": null,
   "metadata": {},
   "outputs": [],
   "source": []
  },
  {
   "cell_type": "code",
   "execution_count": null,
   "metadata": {},
   "outputs": [],
   "source": []
  },
  {
   "cell_type": "code",
   "execution_count": null,
   "metadata": {},
   "outputs": [],
   "source": []
  },
  {
   "cell_type": "code",
   "execution_count": null,
   "metadata": {},
   "outputs": [],
   "source": []
  }
 ],
 "metadata": {
  "kernelspec": {
   "display_name": "Python 3",
   "language": "python",
   "name": "python3"
  },
  "language_info": {
   "codemirror_mode": {
    "name": "ipython",
    "version": 3
   },
   "file_extension": ".py",
   "mimetype": "text/x-python",
   "name": "python",
   "nbconvert_exporter": "python",
   "pygments_lexer": "ipython3",
   "version": "3.6.5"
  }
 },
 "nbformat": 4,
 "nbformat_minor": 2
}
