{
 "cells": [
  {
   "cell_type": "code",
   "execution_count": null,
   "metadata": {},
   "outputs": [],
   "source": [
    "#7.1函数接收任意参数\n",
    "def func1(first,*rest):\n",
    "    print(\"The first var is \",first)\n",
    "    print(\"The rest var is\",rest)\n",
    "func1(1,2,3,4)\n",
    "#rest be used as a tuple!\n",
    "\n",
    "print(\"======================================\")\n",
    "def func2(name, value, **attrs):\n",
    "    print('The name is ',name)\n",
    "    print('The value is',value)\n",
    "    print('attrs are',attrs)\n",
    "func2('zz','111',id=2,zhazha=3,l=4)\n",
    "#**attrs like a dict in python.\n",
    "\n",
    "print(\"======================================\")\n",
    "def func3(*args, **kwargs):\n",
    "    print(args) # A tuple\n",
    "    print(kwargs) # A dict\n",
    "func3('tuple!!!',dictionary='kwargs!')\n",
    "\n",
    "print(\"======================================\")\n",
    "def a(x,*args,y):\n",
    "    print(x)\n",
    "    print(args)\n",
    "    print(y)\n",
    "a(1,2,3,4,5,y=6)\n",
    "#In this func, the first element is x others except y are args!!!\n",
    "def b(x, *args, y, **kwargs):\n",
    "    pass\n",
    "#as as func b. after y, user can give any dic to func b.\n"
   ]
  },
  {
   "cell_type": "code",
   "execution_count": 12,
   "metadata": {
    "scrolled": true
   },
   "outputs": [
    {
     "name": "stdout",
     "output_type": "stream",
     "text": [
      "111\n",
      "zhazha\n",
      "======================================\n",
      "(1, 2, 3, 4)\n",
      "True\n",
      "1\n",
      "(1, 2, 3, 4, True)\n",
      "None\n",
      "1\n"
     ]
    },
    {
     "data": {
      "text/plain": [
       "1"
      ]
     },
     "execution_count": 12,
     "metadata": {},
     "output_type": "execute_result"
    }
   ],
   "source": [
    "#7.2 keyword only arguments\n",
    "def func1(name,*,block):\n",
    "    print(name)\n",
    "    print(block)\n",
    "func1('111',block='zhazha')\n",
    "#If you wanna use keyword only arguments, name them after *name or *\n",
    "\n",
    "# def func_test(name,**kwargs,block):\n",
    "#     print(name)\n",
    "#     print(kwargs)\n",
    "#     print(block)\n",
    "# func_test(1,a=1,b=2,c=3,block=4)\n",
    "#this doesnt work!\n",
    "print(\"======================================\")\n",
    "\n",
    "def func2(*value,clip=None):\n",
    "    print(value)\n",
    "    m=min(value)\n",
    "    if clip is not None:\n",
    "        m=clip if clip>m else m\n",
    "    print(clip)\n",
    "    print(m)\n",
    "    return m\n",
    "#In this function, clip is kwarg!,use None instead of [] !!!!!!!\n",
    "func2(1,2,3,4,clip=True)\n",
    "func2(1,2,3,4,True)"
   ]
  },
  {
   "cell_type": "code",
   "execution_count": null,
   "metadata": {},
   "outputs": [],
   "source": [
    "#7.3 func 的元信息\n",
    "\n",
    "def add(x:int, y:int) ->int:\n",
    "    print(x+y)\n",
    "    return x+y\n",
    "#help people read your code!!!\n",
    "\n"
   ]
  },
  {
   "cell_type": "code",
   "execution_count": 14,
   "metadata": {},
   "outputs": [
    {
     "name": "stdout",
     "output_type": "stream",
     "text": [
      "(1, 2, 3, 4)\n"
     ]
    }
   ],
   "source": [
    "#7.4 返回多个值的函数\n",
    "\n",
    "def func():\n",
    "    return 1,2,3,4\n",
    "a=func()\n",
    "print(a)\n",
    "a,b,c,d=func()\n",
    "\n",
    "#return mult vars in a tuple"
   ]
  },
  {
   "cell_type": "code",
   "execution_count": 19,
   "metadata": {},
   "outputs": [
    {
     "name": "stdout",
     "output_type": "stream",
     "text": [
      "1 2\n",
      "1 42\n",
      "======================================\n",
      "1 2\n",
      "1\n"
     ]
    }
   ],
   "source": [
    "#7.5 定义有默认参数的函数\n",
    "\n",
    "def func1(a,b=42):\n",
    "    print(a,b)\n",
    "func1(1,2)\n",
    "func1(1)\n",
    "\n",
    "print(\"======================================\")\n",
    "\n",
    "_no_value = object()\n",
    "\n",
    "def func2(a,b=_no_value):\n",
    "    if b is _no_value:\n",
    "        print(a)\n",
    "    else:\n",
    "        print(a,b)\n",
    "func2(1,2)\n",
    "func2(1)\n",
    "#use _no_value to detect if b has value or not!!!!!\n",
    "\n",
    "#b should be a static element like None, True, False or int, string.\n",
    "#cant be a [] or {}"
   ]
  },
  {
   "cell_type": "code",
   "execution_count": 22,
   "metadata": {},
   "outputs": [
    {
     "name": "stdout",
     "output_type": "stream",
     "text": [
      "['Ned Batchelder', 'David Beazley', 'Raymond Hettinger', 'Brian Jones']\n"
     ]
    }
   ],
   "source": [
    "#7.6 lambda\n",
    "\n",
    "name=['David Beazley', 'Brian Jones','Raymond Hettinger', 'Ned Batchelder']\n",
    "name=sorted(name, key=lambda name: name.split()[-1].lower())\n",
    "print(name)"
   ]
  },
  {
   "cell_type": "code",
   "execution_count": 23,
   "metadata": {},
   "outputs": [
    {
     "name": "stdout",
     "output_type": "stream",
     "text": [
      "1 2 3 4\n",
      "1 2 3 4444\n"
     ]
    }
   ],
   "source": [
    "#7.8 减少可调用对象的参数个数\n",
    "\n",
    "def func(a,b,c,d):\n",
    "    print(a,b,c,d)\n",
    "    \n",
    "from functools import partial\n",
    "s1=partial(func,1)#a=1\n",
    "s1(2,3,4)\n",
    "s2=partial(func,d=4444)#d=4444\n",
    "s2(1,2,3)\n",
    "\n",
    "#how to use partial!!!! we can use it to reduce input numbers!"
   ]
  },
  {
   "cell_type": "code",
   "execution_count": null,
   "metadata": {},
   "outputs": [],
   "source": [
    "#7.9~7.12 check in the future, have not used them before."
   ]
  }
 ],
 "metadata": {
  "kernelspec": {
   "display_name": "Python 3",
   "language": "python",
   "name": "python3"
  },
  "language_info": {
   "codemirror_mode": {
    "name": "ipython",
    "version": 3
   },
   "file_extension": ".py",
   "mimetype": "text/x-python",
   "name": "python",
   "nbconvert_exporter": "python",
   "pygments_lexer": "ipython3",
   "version": "3.6.5"
  }
 },
 "nbformat": 4,
 "nbformat_minor": 2
}
