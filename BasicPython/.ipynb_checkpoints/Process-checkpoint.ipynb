{
 "cells": [
  {
   "cell_type": "markdown",
   "metadata": {},
   "source": [
    "# 进程 multiprocessing&mp4py\n",
    "\n",
    "multiprocessing 是Python的标准模块,实现了共享内存.\n",
    "\n",
    "mp4py 实现了消息传递的编程范例, 进程交流全靠传递信息代替, 没有共享内存."
   ]
  },
  {
   "cell_type": "markdown",
   "metadata": {},
   "source": [
    "## 进程简介\n",
    "\n",
    "jupter 的解释器好像有什么问题,代码在这里运行会出问题.\n",
    "\n",
    "基本操作跟threading一样\n",
    "\n",
    "但小心,由于这是进程, 要是不加join(), 那么子进程会在主进程结束后继续运行! \n",
    "\n",
    "所以说,该用if \\__name__ =='\\__main__'\n",
    "\n",
    "multiprocessing的名字获得方法和线程不太一样~\n",
    "\n",
    "__daemon/join__ 的用法还是一样的, 控制子线程处于前台或后台和等待时间\n",
    "\n",
    "但是有一个问题: \n",
    "* 后台进程可以看到输出,后台进程没有输出,后台进程会在主进程结束后自动结束.\n",
    "\n",
    "* 后台进程不可以创建子进程, 否则当后台进程跟随父进程退出时,子进程会变成孤儿进程."
   ]
  },
  {
   "cell_type": "code",
   "execution_count": null,
   "metadata": {},
   "outputs": [],
   "source": [
    "import multiprocessing\n",
    "\n",
    "\n",
    "def foo(i):\n",
    "    name=multiprocessing.current_process().name\n",
    "    print('called function in process{} : {}'.format(i, name))\n",
    "\n",
    "\n",
    "if __name__ == '__main__':\n",
    "    Process_jobs = []\n",
    "    for i in range(5):\n",
    "        # p = multiprocessing.Process(target=foo, args=(i,), name= 'zz'+str(i))\n",
    "        p = multiprocessing.Process(target=foo, args=(i,),)\n",
    "        Process_jobs.append(p)\n",
    "        p.start()\n",
    "        p.join()"
   ]
  },
  {
   "cell_type": "markdown",
   "metadata": {},
   "source": [
    "## terminate()\n",
    "\n",
    "杀掉一个进程的方法//\n",
    "但是不建议在主进程中使用, terminate()后子进程并不会释放空间/资源\n",
    "\n",
    "还是给个全局变量信号之类的,然后让子进程自己结束比较好"
   ]
  },
  {
   "cell_type": "code",
   "execution_count": null,
   "metadata": {},
   "outputs": [],
   "source": [
    "import multiprocessing\n",
    "import time\n",
    "\n",
    "\n",
    "def foo():\n",
    "    name=multiprocessing.current_process().name\n",
    "    print('Starting process: {}'.format( name))\n",
    "    time.sleep(3)\n",
    "    print(\"Exiting process: \", name)\n",
    "\n",
    "\n",
    "if __name__ == '__main__':\n",
    "    p=multiprocessing.Process(target=foo)\n",
    "    print('Process before execution:', p, p.is_alive())\n",
    "    p.start()\n",
    "    print('Running! ', p, p.is_alive())\n",
    "    p.terminate()\n",
    "    print('Terminated!',p, p.is_alive())\n",
    "    p.join()\n",
    "    print('Joined! ',p, p.is_alive())\n",
    "    print('exit code: ', p.exitcode)\n",
    "\n"
   ]
  },
  {
   "cell_type": "markdown",
   "metadata": {},
   "source": [
    "## 进程类 //这个跟threading那边基本一样\n",
    "\n",
    "验证了一下, 进程在运行完毕后会自动结束掉"
   ]
  },
  {
   "cell_type": "code",
   "execution_count": null,
   "metadata": {},
   "outputs": [],
   "source": [
    "import multiprocessing\n",
    "import time\n",
    "\n",
    "\n",
    "class MyProcess(multiprocessing.Process):\n",
    "    def run(self):\n",
    "        print('called run method in process', self.name)\n",
    "\n",
    "if __name__=='__main__':\n",
    "    jobs=[]\n",
    "    for i in range(5):\n",
    "        p=MyProcess()\n",
    "        jobs.append(p)\n",
    "        p.start()\n",
    "        p.join()\n",
    "    print('#####################')\n",
    "    time.sleep(5)\n",
    "    for p in jobs:\n",
    "        if p.is_alive():\n",
    "            print('process is alive', p.name)\n",
    "        else:\n",
    "            print('process is down,',p.name)\n",
    "            \n",
    "\n"
   ]
  },
  {
   "cell_type": "markdown",
   "metadata": {},
   "source": [
    "## 进程间的交换信息/对象\n",
    "\n",
    "### queue()\n",
    "\n",
    "可以用multiprocessing.Queue() 来进行通信. 这个queue的用法和之前一样.\n",
    "但没有task_done() 和join()方法. 这两个方法在joinablequeue()里面\n",
    "\n",
    "### pipe()\n",
    "没太搞明白~\n",
    "\n",
    "__应该再看看"
   ]
  },
  {
   "cell_type": "code",
   "execution_count": null,
   "metadata": {},
   "outputs": [],
   "source": [
    "import multiprocessing\n",
    "import random\n",
    "import time\n",
    "\n",
    "class Producer(multiprocessing.Process):\n",
    "\n",
    "    def __init__(self,queue):\n",
    "        multiprocessing.Process.__init__(self)\n",
    "        self.queue=queue\n",
    "\n",
    "    def run(self):\n",
    "        for i in range(10):\n",
    "            item=random.randint(0,256)\n",
    "            self.queue.put(item)\n",
    "            print('Producer: item {} append to queue {}'.format(item,self.name))\n",
    "            time.sleep(1)\n",
    "            print('         The size of queue is {}'.format(self.queue.qsize()))\n",
    "\n",
    "class Consumer(multiprocessing.Process):\n",
    "    def __init__(self,queue):\n",
    "        multiprocessing.Process.__init__(self)\n",
    "        self.queue=queue\n",
    "\n",
    "    def run(self):\n",
    "        while True:\n",
    "            time.sleep(2)\n",
    "            if self.queue.empty():\n",
    "                print('The queue is empty')\n",
    "                break\n",
    "            else:\n",
    "                item=self.queue.get()\n",
    "                print('Consumer: item {} popped from by {}'.format(item, self.name))\n",
    "                time.sleep(1)\n",
    "\n",
    "if __name__=='__main__':\n",
    "    queue=multiprocessing.Queue()\n",
    "    p=Producer(queue)\n",
    "    c1=Consumer(queue)\n",
    "    c2=Consumer(queue)\n",
    "    p.start()\n",
    "    c1.start()\n",
    "    # c2.start()\n",
    "    p.join()\n",
    "    c1.join()\n",
    "    # c2.join()\n"
   ]
  },
  {
   "cell_type": "code",
   "execution_count": null,
   "metadata": {},
   "outputs": [],
   "source": [
    "import multiprocessing\n",
    "\n",
    "def create_item(pipe):\n",
    "    output_pipe,_=pipe\n",
    "    for item in range(10):\n",
    "        output_pipe.send(item)\n",
    "    output_pipe.close()\n",
    "\n",
    "def multi_items(pipe1,pipe2):\n",
    "    close, input_pipe=pipe1\n",
    "    close.close()\n",
    "    output_pipe,_=pipe2\n",
    "    try:\n",
    "        while True:\n",
    "            item=input_pipe.recv()\n",
    "            output_pipe.send(item*item)\n",
    "    except EOFError:\n",
    "        output_pipe.close()\n",
    "\n",
    "if __name__=='__main__':\n",
    "    pipe1=multiprocessing.Pipe(True)\n",
    "    process_pipe1=multiprocessing.Process(target=create_item,args=(pipe1,))\n",
    "    process_pipe1.start()\n",
    "\n",
    "    pipe2=multiprocessing.Pipe(True)\n",
    "    process_pipe2=multiprocessing.Process(target=multi_items,args=(pipe1,pipe2,))\n",
    "    process_pipe2.start()\n",
    "    pipe1[0].close()\n",
    "    pipe2[0].close()\n",
    "    try:\n",
    "        while True:\n",
    "            print(pipe2[1].recv())\n",
    "    except EOFError:\n",
    "        print('end!')\n"
   ]
  },
  {
   "cell_type": "markdown",
   "metadata": {},
   "source": [
    "## 同步进程 barrier()\n",
    "\n",
    "确保多个进程同时进行// 暂时不知道什么需要这么玩.\n",
    "barrier(number), 这个number是进程数\n",
    "每个子进程调用.wait()方法. 当number个子进程都调用了wait()后, 他们会一起执行. \n",
    "\n",
    "但例子里还给了一个lock(), 不知道是干什么的\n",
    "\n",
    "### __semaphore, condition, event 都和线程里面的用法相同."
   ]
  },
  {
   "cell_type": "code",
   "execution_count": null,
   "metadata": {},
   "outputs": [],
   "source": [
    "import multiprocessing\n",
    "from multiprocessing import Barrier, Lock, Process\n",
    "from time import time\n",
    "from datetime import datetime\n",
    "\n",
    "def twb(syn, serializer):\n",
    "    name=multiprocessing.current_process().name\n",
    "    syn.wait()\n",
    "    now=time()\n",
    "    with serializer:\n",
    "        print('process {} ----- {}'.format(name, datetime.fromtimestamp(now)))\n",
    "\n",
    "def twob():\n",
    "    name=multiprocessing.current_process().name\n",
    "    now=time()\n",
    "    print('process {} ----- {}'.format(name, datetime.fromtimestamp(now)))\n",
    "\n",
    "if __name__=='__main__':\n",
    "    syn=Barrier(2)\n",
    "    serializer=Lock()\n",
    "    Process(name='p1 - twb',target=twb, args=(syn,serializer,)).start()\n",
    "    Process(name='p2 - twb',target=twb, args=(syn,serializer,)).start()\n",
    "    Process(name='p3 - twob',target=twob).start()\n",
    "    Process(name='p4 - twob',target=twob).start()"
   ]
  },
  {
   "cell_type": "markdown",
   "metadata": {},
   "source": [
    "## 进程间状态管理\n",
    "\n",
    "这里用了一个dictionary 来作为共享变量\n",
    "\n",
    "用的是multiprocessing.Manager()\n",
    "\n",
    "但在主进程里 不可以直接饮用dictionary, 只能用dictionary.keys()\n",
    "\n",
    "但感觉这个可以用lock解决,不知道什么情况."
   ]
  },
  {
   "cell_type": "code",
   "execution_count": null,
   "metadata": {},
   "outputs": [],
   "source": [
    "import multiprocessing\n",
    "\n",
    "def worker(dictionary, key, item):\n",
    "    dictionary[key]=item\n",
    "    print('key = {} ; value = {}, name={}'.format(key, item, multiprocessing.current_process().name))\n",
    "\n",
    "if __name__ == '__main__':\n",
    "    mgr=multiprocessing.Manager()\n",
    "    dictionary=mgr.dict()\n",
    "    jobs=[multiprocessing.Process(target=worker, args=(dictionary,i,i*2)) for i in range(10)]\n",
    "    for j in jobs:\n",
    "        j.start()\n",
    "    for j in jobs:\n",
    "        j.join()\n",
    "    print('Results: \\n')\n",
    "    for i in dictionary.keys():\n",
    "        print(\"{} : {}\".format(i, dictionary[i]))"
   ]
  },
  {
   "cell_type": "markdown",
   "metadata": {},
   "source": [
    "## 进程池, 有意思的部分来了\n",
    "\n",
    "这里的map() 跟正常的map()不一样.\n",
    "\n",
    "正常的map() 在python3 里面返回的是一个迭代器. 但这里可以返回一个list\n",
    "\n",
    "### 嗯````````"
   ]
  },
  {
   "cell_type": "code",
   "execution_count": null,
   "metadata": {},
   "outputs": [],
   "source": [
    "import multiprocessing\n",
    "\n",
    "def func(data):\n",
    "    result=data*data\n",
    "    return result\n",
    "\n",
    "if __name__=='__main__':\n",
    "    inputs=[i for i in range(100)]\n",
    "    pool=multiprocessing.Pool(processes=4)\n",
    "    pool_outputs=pool.map(func, inputs)\n",
    "    pool.close()\n",
    "    pool.join()\n",
    "    print('Pool     : ',pool_outputs)"
   ]
  },
  {
   "cell_type": "code",
   "execution_count": null,
   "metadata": {},
   "outputs": [],
   "source": []
  },
  {
   "cell_type": "code",
   "execution_count": null,
   "metadata": {},
   "outputs": [],
   "source": []
  },
  {
   "cell_type": "code",
   "execution_count": null,
   "metadata": {},
   "outputs": [],
   "source": []
  },
  {
   "cell_type": "code",
   "execution_count": null,
   "metadata": {},
   "outputs": [],
   "source": []
  },
  {
   "cell_type": "code",
   "execution_count": null,
   "metadata": {},
   "outputs": [],
   "source": []
  },
  {
   "cell_type": "code",
   "execution_count": null,
   "metadata": {},
   "outputs": [],
   "source": []
  },
  {
   "cell_type": "code",
   "execution_count": null,
   "metadata": {},
   "outputs": [],
   "source": []
  }
 ],
 "metadata": {
  "kernelspec": {
   "display_name": "Python 3",
   "language": "python",
   "name": "python3"
  },
  "language_info": {
   "codemirror_mode": {
    "name": "ipython",
    "version": 3
   },
   "file_extension": ".py",
   "mimetype": "text/x-python",
   "name": "python",
   "nbconvert_exporter": "python",
   "pygments_lexer": "ipython3",
   "version": "3.6.5"
  }
 },
 "nbformat": 4,
 "nbformat_minor": 2
}
