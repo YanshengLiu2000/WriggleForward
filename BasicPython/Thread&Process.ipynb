{
 "cells": [
  {
   "cell_type": "markdown",
   "metadata": {},
   "source": [
    "# 简单了解线程\n",
    "\n",
    "这里面watch函数是一个装饰器,基本上装饰器就这么玩\n",
    "\n",
    "* 由于有GIL, python线程不适用于计算密集型任务"
   ]
  },
  {
   "cell_type": "code",
   "execution_count": 19,
   "metadata": {},
   "outputs": [
    {
     "name": "stdout",
     "output_type": "stream",
     "text": [
      "single_thread start!\n",
      "Cost:  0.006979703903198242\n",
      "duo_threads start!\n",
      "END!\n",
      "Cost:  6.044828414916992\n"
     ]
    }
   ],
   "source": [
    "import time \n",
    "from threading import Thread\n",
    "\n",
    "def countdown(n):\n",
    "    while n>0:\n",
    "        print('T-minus',n)\n",
    "        n-=1\n",
    "        time.sleep(1)\n",
    "def fib(n):\n",
    "    if n==1 or n==2:\n",
    "        return 1\n",
    "    return fib(n-1)+fib(n-2)\n",
    "\n",
    "def watch(func):\n",
    "    def wrapper(*args,**kwargs):\n",
    "        print('{} start!'.format(func.__name__))\n",
    "        import time\n",
    "        start=time.time()\n",
    "        func(*args,**kwargs)\n",
    "        end=time.time()\n",
    "        print('Cost: ', end-start)\n",
    "    return wrapper\n",
    "\n",
    "@watch\n",
    "def single_thread():\n",
    "    i=fib(20)\n",
    "    ii=fib(20)\n",
    "    return 1\n",
    "@watch\n",
    "def duo_threads():\n",
    "    t1=Thread(target=fib,args=(35,))\n",
    "    t2=Thread(target=fib,args=(35,))\n",
    "    t1.start()\n",
    "    t2.start()\n",
    "    t1.join()\n",
    "    t2.join()\n",
    "    print('END!')\n",
    "if __name__=='__main__':\n",
    "    single_thread()\n",
    "    duo_threads()\n",
    "    "
   ]
  },
  {
   "cell_type": "code",
   "execution_count": 16,
   "metadata": {},
   "outputs": [
    {
     "name": "stdout",
     "output_type": "stream",
     "text": [
      "T-minus 10\n",
      "Threading has been terminated!\n"
     ]
    }
   ],
   "source": [
    "import time\n",
    "from threading import Thread\n",
    "\n",
    "class CountDownTask:\n",
    "    def __init__(self):\n",
    "        self._running=True\n",
    "    def terminate(self):\n",
    "        self._running=False\n",
    "        print('Threading has been terminated!')\n",
    "    def run(self,n):\n",
    "        while self._running and n>0:\n",
    "            print('T-minus',n)\n",
    "            n-=1\n",
    "            time.sleep(1)\n",
    "if __name__ =='__main__':\n",
    "    c=CountDownTask()\n",
    "    t=Thread(target=c.run, args=(10,))\n",
    "    t.start()\n",
    "    time.sleep(1)\n",
    "    c.terminate()\n",
    "    t.join()"
   ]
  },
  {
   "cell_type": "code",
   "execution_count": null,
   "metadata": {},
   "outputs": [],
   "source": []
  }
 ],
 "metadata": {
  "kernelspec": {
   "display_name": "Python 3",
   "language": "python",
   "name": "python3"
  },
  "language_info": {
   "codemirror_mode": {
    "name": "ipython",
    "version": 3
   },
   "file_extension": ".py",
   "mimetype": "text/x-python",
   "name": "python",
   "nbconvert_exporter": "python",
   "pygments_lexer": "ipython3",
   "version": "3.6.5"
  }
 },
 "nbformat": 4,
 "nbformat_minor": 2
}
